{
  "nbformat": 4,
  "nbformat_minor": 0,
  "metadata": {
    "kernelspec": {
      "name": "python36",
      "display_name": "Python 3.6",
      "language": "python"
    },
    "language_info": {
      "mimetype": "text/x-python",
      "nbconvert_exporter": "python",
      "name": "python",
      "pygments_lexer": "ipython3",
      "version": "3.6.6",
      "file_extension": ".py",
      "codemirror_mode": {
        "version": 3,
        "name": "ipython"
      }
    },
    "colab": {
      "name": "Task1.1.ipynb",
      "provenance": []
    }
  },
  "cells": [
    {
      "cell_type": "markdown",
      "metadata": {
        "collapsed": true,
        "id": "Yk9IeUIs-sSo"
      },
      "source": [
        "# Пример уменьшения размерности"
      ]
    },
    {
      "cell_type": "markdown",
      "metadata": {
        "id": "LMutVVMt-sS1"
      },
      "source": [
        "Рассмотрим основные моменты уменьшения размерности на примере из лекции (рукописные цифры). "
      ]
    },
    {
      "cell_type": "markdown",
      "metadata": {
        "id": "BZElahZm-sS2"
      },
      "source": [
        "Подключим требуемые библиотеки."
      ]
    },
    {
      "cell_type": "code",
      "metadata": {
        "trusted": true,
        "id": "e1lo6oBf-sS3"
      },
      "source": [
        "import numpy as np\n",
        "from sklearn.decomposition import PCA\n",
        "from sklearn import datasets\n",
        "import matplotlib\n",
        "import matplotlib.pyplot as plt\n",
        "%matplotlib inline"
      ],
      "execution_count": null,
      "outputs": []
    },
    {
      "cell_type": "code",
      "metadata": {
        "id": "GP0jvQur-_hA"
      },
      "source": [
        "import pandas as pd"
      ],
      "execution_count": null,
      "outputs": []
    },
    {
      "cell_type": "markdown",
      "metadata": {
        "id": "xofjo7ik-sS4"
      },
      "source": [
        "Импортируем датасет."
      ]
    },
    {
      "cell_type": "code",
      "metadata": {
        "id": "l8eR2XcpBcep"
      },
      "source": [
        "url = 'https://cdn.openedu.ru/ESZCBLZ/courseware/v1/0187032bcfa54f8c26976dad7df1eec9/asset-v1:ITMOUniversity+ADVML+spring_2021_ITMO+type@asset+block/7_25.csv'"
      ],
      "execution_count": null,
      "outputs": []
    },
    {
      "cell_type": "code",
      "metadata": {
        "id": "jY7fjPP8-v6n"
      },
      "source": [
        "X = pd.read_csv(url, header = None, dtype = 'float64')"
      ],
      "execution_count": null,
      "outputs": []
    },
    {
      "cell_type": "markdown",
      "metadata": {
        "id": "tFNUA88e-sS8"
      },
      "source": [
        "Уменьшим размерность при помощи библиотеки __sklearn__. Отдельно обращаем ваше внимание на параметр __svd_solver__, он отвечает за метод оптимизации. Дело в том, что в Python оптимизационные задачи решаются численно. При этом могут использоваться различные алгоритмы, а значит результаты могут несколько отличаться. Поэтому, чтобы получать одинаковые результаты, нужно использовать параметры модели, указанные в задании."
      ]
    },
    {
      "cell_type": "code",
      "metadata": {
        "trusted": true,
        "colab": {
          "base_uri": "https://localhost:8080/"
        },
        "id": "KpIC4R94-sS9",
        "outputId": "239fcbb2-5339-491f-b2fc-f99fefb363c3"
      },
      "source": [
        "pca = PCA(n_components=2, svd_solver='full') #Создание объекта класса PCA. В качестве параметров выступает количество ГК и метод оптимизации\n",
        "X_transformed = pca.fit(X).transform(X) #X_transformed -- ndarray объектов, где каждый объект описывается двумя ГК\n",
        "X_transformed[0]"
      ],
      "execution_count": null,
      "outputs": [
        {
          "output_type": "execute_result",
          "data": {
            "text/plain": [
              "array([-32.31442582,  -4.26100973])"
            ]
          },
          "metadata": {
            "tags": []
          },
          "execution_count": 45
        }
      ]
    },
    {
      "cell_type": "markdown",
      "metadata": {
        "id": "HjgHL-gDHGqx"
      },
      "source": [
        "1) Введите координату первого объекта относительно первой главной компоненты. **(-32.314)**\n",
        "\n",
        "\n",
        "---\n",
        "\n",
        "\n",
        "2) Введите координату первого объекта относительно второй главной компоненты. **(-4.261)**\n",
        "\n",
        "\n",
        "---\n",
        "\n"
      ]
    },
    {
      "cell_type": "markdown",
      "metadata": {
        "id": "CCY6k23x-sS-"
      },
      "source": [
        "Изобразим первые 100 объектов в виде точек на плоскости. В силу того, что нам известны отклики, отметим одинаковые цифры одинаковым цветом."
      ]
    },
    {
      "cell_type": "markdown",
      "metadata": {
        "id": "ai-vuwgM-sTA"
      },
      "source": [
        "Если представить, что отклики нам неизвестны, то картина становится гораздо менее радужной. Объединение объектов в группы интуитивно, конечно, возможно, но с существенными оговорками."
      ]
    },
    {
      "cell_type": "code",
      "metadata": {
        "trusted": true,
        "colab": {
          "base_uri": "https://localhost:8080/",
          "height": 285
        },
        "id": "1fqel6cK-sTA",
        "outputId": "cc7970c2-6f4e-4135-a33e-179b94dcc836"
      },
      "source": [
        "plt.plot(X_transformed[:101, 0], X_transformed[:101, 1], 'o', markerfacecolor='red', markeredgecolor='k', markersize=8)"
      ],
      "execution_count": null,
      "outputs": [
        {
          "output_type": "execute_result",
          "data": {
            "text/plain": [
              "[<matplotlib.lines.Line2D at 0x7fc7f2c7ce90>]"
            ]
          },
          "metadata": {
            "tags": []
          },
          "execution_count": 46
        },
        {
          "output_type": "display_data",
          "data": {
            "image/png": "[encoded data removed]",
            "text/plain": [
              "<Figure size 432x288 with 1 Axes>"
            ]
          },
          "metadata": {
            "tags": [],
            "needs_background": "light"
          }
        }
      ]
    },
    {
      "cell_type": "markdown",
      "metadata": {
        "id": "08f7Y3R-HaEH"
      },
      "source": [
        "5) Какое количество групп объектов можно выделить, если использовать только первые две главных компоненты? **(5)**\n",
        "\n",
        "\n",
        "---\n",
        "\n"
      ]
    },
    {
      "cell_type": "markdown",
      "metadata": {
        "id": "XUy6MuZj-sTC"
      },
      "source": [
        "Для дальнейшего анализа нам удобно будет построить не 2, а все 64 ГК (хотя, конечно, это можно было сделать и сразу, а картинку строить лишь по первым двум)."
      ]
    },
    {
      "cell_type": "code",
      "metadata": {
        "trusted": true,
        "id": "SaSLtACs-sTE"
      },
      "source": [
        "pca = PCA(n_components=10, svd_solver='full')\n",
        "X_full = pca.fit(X).transform(X)"
      ],
      "execution_count": null,
      "outputs": []
    },
    {
      "cell_type": "markdown",
      "metadata": {
        "id": "3cg5xb_4-sTF"
      },
      "source": [
        "Найдем долю объясненной дисперсии в зависимости от количества используемых ГК."
      ]
    },
    {
      "cell_type": "code",
      "metadata": {
        "trusted": true,
        "colab": {
          "base_uri": "https://localhost:8080/"
        },
        "id": "crNhDfg--sTG",
        "outputId": "5c00289e-3377-4427-c13f-127266423f3d"
      },
      "source": [
        "explained_variance = np.round(np.cumsum(pca.explained_variance_ratio_),3)\n",
        "explained_variance"
      ],
      "execution_count": null,
      "outputs": [
        {
          "output_type": "execute_result",
          "data": {
            "text/plain": [
              "array([0.421, 0.69 , 0.931, 0.992, 0.994, 0.996, 0.997, 0.998, 0.999,\n",
              "       1.   ])"
            ]
          },
          "metadata": {
            "tags": []
          },
          "execution_count": 48
        }
      ]
    },
    {
      "cell_type": "markdown",
      "metadata": {
        "id": "_ImRhxp1Hqqq"
      },
      "source": [
        "3) Введите долю объясненной дисперсии при использовании первых двух главных компонент. **(0.69)**\n",
        "\n",
        "\n",
        "---\n",
        "\n",
        "\n",
        "4) Какое минимальное количество главных компонент необходимо использовать, чтобы доля объясненной дисперсии превышала 0.85 **(3)**\n"
      ]
    }
  ]
}