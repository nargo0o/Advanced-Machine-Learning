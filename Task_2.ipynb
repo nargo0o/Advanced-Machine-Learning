{
  "nbformat": 4,
  "nbformat_minor": 0,
  "metadata": {
    "kernelspec": {
      "display_name": "Python 3",
      "language": "python",
      "name": "python3"
    },
    "language_info": {
      "codemirror_mode": {
        "name": "ipython",
        "version": 3
      },
      "file_extension": ".py",
      "mimetype": "text/x-python",
      "name": "python",
      "nbconvert_exporter": "python",
      "pygments_lexer": "ipython3",
      "version": "3.5.4"
    },
    "colab": {
      "name": "Task_2.ipynb",
      "provenance": []
    }
  },
  "cells": [
    {
      "cell_type": "code",
      "metadata": {
        "colab": {
          "base_uri": "https://localhost:8080/"
        },
        "id": "rL-F_qz7UJPf",
        "outputId": "34520be7-de6e-4509-fd37-e1970c4bdc4d"
      },
      "source": [
        "!pip install --upgrade pip\n",
        "!pip install imutils\n",
        "!pip install opencv-python"
      ],
      "execution_count": 1,
      "outputs": [
        {
          "output_type": "stream",
          "text": [
            "Collecting pip\n",
            "\u001b[?25l  Downloading https://files.pythonhosted.org/packages/cd/6f/43037c7bcc8bd8ba7c9074256b1a11596daa15555808ec748048c1507f08/pip-21.1.1-py3-none-any.whl (1.5MB)\n",
            "\u001b[K     |████████████████████████████████| 1.6MB 3.8MB/s \n",
            "\u001b[?25hInstalling collected packages: pip\n",
            "  Found existing installation: pip 19.3.1\n",
            "    Uninstalling pip-19.3.1:\n",
            "      Successfully uninstalled pip-19.3.1\n",
            "Successfully installed pip-21.1.1\n",
            "Requirement already satisfied: imutils in /usr/local/lib/python3.7/dist-packages (0.5.4)\n",
            "\u001b[33mWARNING: Running pip as root will break packages and permissions. You should install packages reliably by using venv: https://pip.pypa.io/warnings/venv\u001b[0m\n",
            "Requirement already satisfied: opencv-python in /usr/local/lib/python3.7/dist-packages (4.1.2.30)\n",
            "Requirement already satisfied: numpy>=1.14.5 in /usr/local/lib/python3.7/dist-packages (from opencv-python) (1.19.5)\n",
            "\u001b[33mWARNING: Running pip as root will break packages and permissions. You should install packages reliably by using venv: https://pip.pypa.io/warnings/venv\u001b[0m\n"
          ],
          "name": "stdout"
        }
      ]
    },
    {
      "cell_type": "code",
      "metadata": {
        "id": "rFbqDP6pUJPh"
      },
      "source": [
        "from sklearn.preprocessing import LabelEncoder\n",
        "from sklearn.svm import LinearSVC\n",
        "from sklearn.metrics import classification_report\n",
        "from sklearn.model_selection import train_test_split\n",
        "from sklearn.metrics import f1_score\n",
        "from IPython.display import Image\n",
        "from imutils import paths\n",
        "import numpy as np\n",
        "import cv2\n",
        "import os\n",
        "import matplotlib.pyplot as plt\n",
        "import matplotlib.image as mpimg"
      ],
      "execution_count": 2,
      "outputs": []
    },
    {
      "cell_type": "markdown",
      "metadata": {
        "id": "rBcbvxgtUJPi"
      },
      "source": [
        "Для работы с изображениями, найдем их гистограммы — характеристики распределения интенсивности изображения. Для этого можно воспользоваться следующим методом."
      ]
    },
    {
      "cell_type": "code",
      "metadata": {
        "id": "AOyvoxgJUJPj"
      },
      "source": [
        "def extract_histogram(image, bins=(8, 8, 8)):\n",
        "    hist = cv2.calcHist([image], [0, 1, 2], None, bins, [0, 256, 0, 256, 0, 256])\n",
        "    cv2.normalize(hist, hist)\n",
        "    return hist.flatten()"
      ],
      "execution_count": 3,
      "outputs": []
    },
    {
      "cell_type": "markdown",
      "metadata": {
        "id": "ehVL1XZSUJPk"
      },
      "source": [
        "Считаем изображения из корневой папки train и вычислим гистограмму каждого изображения. Кроме того, отделим метку каждого изображения. Обработка большого числа изображений в облачных сервисах занимает длительное время (1-5 минут)."
      ]
    },
    {
      "cell_type": "code",
      "metadata": {
        "id": "e0o5cZoXUJPm"
      },
      "source": [
        "imagePaths = sorted(list(paths.list_images(r'\\Users\\Nargo\\Downloads\\train')))\n",
        "data = []\n",
        "labels = []\n",
        "\n",
        "for (i, imagePath) in enumerate(imagePaths):\n",
        "    image = cv2.imread(imagePath, 1)\n",
        "    label = imagePath.split(os.path.sep)[-1].split(\".\")[0]\n",
        "    hist = extract_histogram(image)\n",
        "    data.append(hist)\n",
        "    labels.append(label)"
      ],
      "execution_count": 4,
      "outputs": []
    },
    {
      "cell_type": "code",
      "metadata": {
        "colab": {
          "base_uri": "https://localhost:8080/"
        },
        "id": "WwKnPFiTWTOh",
        "outputId": "0dc8c2b6-5c4d-480e-975b-7070a1a4aa50"
      },
      "source": [
        "type(imagePaths)"
      ],
      "execution_count": 5,
      "outputs": [
        {
          "output_type": "execute_result",
          "data": {
            "text/plain": [
              "list"
            ]
          },
          "metadata": {
            "tags": []
          },
          "execution_count": 5
        }
      ]
    },
    {
      "cell_type": "markdown",
      "metadata": {
        "id": "JKFu4JguUJPn"
      },
      "source": [
        "Преобразуем метки в удобный формат 0 и 1 и посмотрим, какой код и какая метка соответствует самой первой попавшейся нам картинке "
      ]
    },
    {
      "cell_type": "code",
      "metadata": {
        "id": "4M0ysIuIUJPn"
      },
      "source": [
        "le = LabelEncoder()\n",
        "labels = le.fit_transform(labels)\n",
        "print(labels[0])\n",
        "Image(filename=imagePaths[0])"
      ],
      "execution_count": null,
      "outputs": []
    },
    {
      "cell_type": "markdown",
      "metadata": {
        "id": "5XZsk7s_UJPo"
      },
      "source": [
        "Видно, что классом ноль у нас занумерованы коты (кошки).\n",
        "Разделим выборку на тренировочную и тестовую в отношении 75/25 с параметром random_state = 51."
      ]
    },
    {
      "cell_type": "code",
      "metadata": {
        "id": "Yuzw1jyhUJPp"
      },
      "source": [
        "trainData, testData, trainLabels, testLabels = train_test_split(np.array(data), labels, test_size=0.25, random_state=4)"
      ],
      "execution_count": null,
      "outputs": []
    },
    {
      "cell_type": "markdown",
      "metadata": {
        "id": "xqNkaaNHUJPp"
      },
      "source": [
        "Теперь обучим модель почти-разделяющий гиперплосоксти на наших данных, а также оценим ее на тестовых. Параметр C обратно пропорционален параметру модели, про который говорилось в лекции."
      ]
    },
    {
      "cell_type": "code",
      "metadata": {
        "id": "7XtJ72BcUJPq"
      },
      "source": [
        "model = LinearSVC(random_state = 4, C = 1.47)\n",
        "model.fit(trainData, trainLabels)"
      ],
      "execution_count": null,
      "outputs": []
    },
    {
      "cell_type": "code",
      "metadata": {
        "id": "LWZJPZpdbx0a"
      },
      "source": [
        "tetha = [152, 66, 123]\n",
        "for coef in tetha:\n",
        "    print(\"{0}\\t{1:.2f}\".format(coef, model.coef_[0][coef]))"
      ],
      "execution_count": null,
      "outputs": []
    },
    {
      "cell_type": "code",
      "metadata": {
        "id": "X7Vge2F9b0-b"
      },
      "source": [
        "predictions = model.predict(testData)\n",
        "print(\"F1_score\\t{0:.3f}\".format(f1_score(testLabels, predictions, average='macro')))"
      ],
      "execution_count": null,
      "outputs": []
    },
    {
      "cell_type": "code",
      "metadata": {
        "id": "4XcaSQBVcB0n"
      },
      "source": [
        "test_list = ['cat.1020.jpg', 'cat.1010.jpg', 'dog.1046.jpg', 'dog.1013.jpg']\n",
        "for image in test_list:\n",
        "    path = r'C:\\Users\\Victor\\Downloads\\test\\{0}'.format(image)\n",
        "    singleImage = cv2.imread(path)\n",
        "    histt = extract_histogram(singleImage)\n",
        "    histt2 = histt.reshape(1, -1)\n",
        "    prediction = model.predict(histt2)\n",
        "    print(image, \"\\t\", prediction)\n",
        "    img = mpimg.imread(path)\n",
        "    plt.imshow(img)\n",
        "    plt.show()"
      ],
      "execution_count": null,
      "outputs": []
    },
    {
      "cell_type": "markdown",
      "metadata": {
        "id": "NFAyHdajUJP1"
      },
      "source": [
        "Видно, что построенный классификатор успешно справился с заданием."
      ]
    }
  ]
}