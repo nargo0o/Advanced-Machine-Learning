{
  "nbformat": 4,
  "nbformat_minor": 0,
  "metadata": {
    "kernelspec": {
      "display_name": "Python 3",
      "language": "python",
      "name": "python3"
    },
    "language_info": {
      "codemirror_mode": {
        "name": "ipython",
        "version": 3
      },
      "file_extension": ".py",
      "mimetype": "text/x-python",
      "name": "python",
      "nbconvert_exporter": "python",
      "pygments_lexer": "ipython3",
      "version": "3.5.4"
    },
    "colab": {
      "name": "Task3_2.ipynb",
      "provenance": []
    }
  },
  "cells": [
    {
      "cell_type": "code",
      "metadata": {
        "id": "HIecdp2Xkdoe"
      },
      "source": [
        "import numpy as np\n",
        "from sklearn.tree import DecisionTreeClassifier\n",
        "from sklearn.metrics import f1_score \n",
        "from sklearn.metrics import accuracy_score\n",
        "import matplotlib\n",
        "import matplotlib.pyplot as plt\n",
        "%matplotlib inline\n",
        "import pandas as pd"
      ],
      "execution_count": 1,
      "outputs": []
    },
    {
      "cell_type": "code",
      "metadata": {
        "colab": {
          "base_uri": "https://localhost:8080/",
          "height": 204
        },
        "id": "rwblew2Pkdom",
        "outputId": "a674cdef-97d2-4eeb-8521-713538e9884d"
      },
      "source": [
        "url = 'https://cdn.openedu.ru/ESZCBLZ/courseware/v1/f2906818eda8fcfc8f8416557ab1e6df/asset-v1:ITMOUniversity+ADVML+spring_2021_ITMO+type@asset+block/diabetes.csv'\n",
        "df = pd.read_csv(url)\n",
        "df.head()"
      ],
      "execution_count": 5,
      "outputs": [
        {
          "output_type": "execute_result",
          "data": {
            "text/html": [
              "<div>\n",
              "<style scoped>\n",
              "    .dataframe tbody tr th:only-of-type {\n",
              "        vertical-align: middle;\n",
              "    }\n",
              "\n",
              "    .dataframe tbody tr th {\n",
              "        vertical-align: top;\n",
              "    }\n",
              "\n",
              "    .dataframe thead th {\n",
              "        text-align: right;\n",
              "    }\n",
              "</style>\n",
              "<table border=\"1\" class=\"dataframe\">\n",
              "  <thead>\n",
              "    <tr style=\"text-align: right;\">\n",
              "      <th></th>\n",
              "      <th>Pregnancies</th>\n",
              "      <th>Glucose</th>\n",
              "      <th>BloodPressure</th>\n",
              "      <th>SkinThickness</th>\n",
              "      <th>Insulin</th>\n",
              "      <th>BMI</th>\n",
              "      <th>DiabetesPedigreeFunction</th>\n",
              "      <th>Age</th>\n",
              "      <th>Outcome</th>\n",
              "    </tr>\n",
              "  </thead>\n",
              "  <tbody>\n",
              "    <tr>\n",
              "      <th>0</th>\n",
              "      <td>6</td>\n",
              "      <td>148</td>\n",
              "      <td>72</td>\n",
              "      <td>35</td>\n",
              "      <td>0</td>\n",
              "      <td>33.6</td>\n",
              "      <td>0.627</td>\n",
              "      <td>50</td>\n",
              "      <td>1</td>\n",
              "    </tr>\n",
              "    <tr>\n",
              "      <th>1</th>\n",
              "      <td>1</td>\n",
              "      <td>85</td>\n",
              "      <td>66</td>\n",
              "      <td>29</td>\n",
              "      <td>0</td>\n",
              "      <td>26.6</td>\n",
              "      <td>0.351</td>\n",
              "      <td>31</td>\n",
              "      <td>0</td>\n",
              "    </tr>\n",
              "    <tr>\n",
              "      <th>2</th>\n",
              "      <td>8</td>\n",
              "      <td>183</td>\n",
              "      <td>64</td>\n",
              "      <td>0</td>\n",
              "      <td>0</td>\n",
              "      <td>23.3</td>\n",
              "      <td>0.672</td>\n",
              "      <td>32</td>\n",
              "      <td>1</td>\n",
              "    </tr>\n",
              "    <tr>\n",
              "      <th>3</th>\n",
              "      <td>1</td>\n",
              "      <td>89</td>\n",
              "      <td>66</td>\n",
              "      <td>23</td>\n",
              "      <td>94</td>\n",
              "      <td>28.1</td>\n",
              "      <td>0.167</td>\n",
              "      <td>21</td>\n",
              "      <td>0</td>\n",
              "    </tr>\n",
              "    <tr>\n",
              "      <th>4</th>\n",
              "      <td>0</td>\n",
              "      <td>137</td>\n",
              "      <td>40</td>\n",
              "      <td>35</td>\n",
              "      <td>168</td>\n",
              "      <td>43.1</td>\n",
              "      <td>2.288</td>\n",
              "      <td>33</td>\n",
              "      <td>1</td>\n",
              "    </tr>\n",
              "  </tbody>\n",
              "</table>\n",
              "</div>"
            ],
            "text/plain": [
              "   Pregnancies  Glucose  BloodPressure  ...  DiabetesPedigreeFunction  Age  Outcome\n",
              "0            6      148             72  ...                     0.627   50        1\n",
              "1            1       85             66  ...                     0.351   31        0\n",
              "2            8      183             64  ...                     0.672   32        1\n",
              "3            1       89             66  ...                     0.167   21        0\n",
              "4            0      137             40  ...                     2.288   33        1\n",
              "\n",
              "[5 rows x 9 columns]"
            ]
          },
          "metadata": {
            "tags": []
          },
          "execution_count": 5
        }
      ]
    },
    {
      "cell_type": "markdown",
      "metadata": {
        "id": "1iuvnzKBkdop"
      },
      "source": [
        "Отбор первых 590 строк:"
      ]
    },
    {
      "cell_type": "code",
      "metadata": {
        "id": "Kmfowoztkdoq"
      },
      "source": [
        "task_data = df.head(590)"
      ],
      "execution_count": 6,
      "outputs": []
    },
    {
      "cell_type": "markdown",
      "metadata": {
        "id": "kCHDXcvNkdor"
      },
      "source": [
        "Вывод числа строк в получившейся выборке и относящихся к классу 1 (пациент болен диабетом)"
      ]
    },
    {
      "cell_type": "code",
      "metadata": {
        "colab": {
          "base_uri": "https://localhost:8080/"
        },
        "id": "CiWKvdX8kdos",
        "outputId": "5bfe8150-f384-4124-cf7f-3794521f7179"
      },
      "source": [
        "len(task_data[task_data['Outcome'] == 1])"
      ],
      "execution_count": 7,
      "outputs": [
        {
          "output_type": "execute_result",
          "data": {
            "text/plain": [
              "204"
            ]
          },
          "metadata": {
            "tags": []
          },
          "execution_count": 7
        }
      ]
    },
    {
      "cell_type": "code",
      "metadata": {
        "colab": {
          "base_uri": "https://localhost:8080/"
        },
        "id": "cHU4Wa71la2-",
        "outputId": "815c42f2-604c-4a46-eb9d-da2ded89b647"
      },
      "source": [
        "#количество людей юез диабета\n",
        "len(task_data[task_data['Outcome'] == 0])"
      ],
      "execution_count": 11,
      "outputs": [
        {
          "output_type": "execute_result",
          "data": {
            "text/plain": [
              "386"
            ]
          },
          "metadata": {
            "tags": []
          },
          "execution_count": 11
        }
      ]
    },
    {
      "cell_type": "markdown",
      "metadata": {
        "id": "u4bX1IVbkdot"
      },
      "source": [
        "Разделеные данных на тренировочные и тестовые. Первые 70% строк — тренировочные, остальные — тестовые."
      ]
    },
    {
      "cell_type": "code",
      "metadata": {
        "id": "tz-aFtJSkdot"
      },
      "source": [
        "train = task_data.head(int(len(task_data)*0.8))\n",
        "test = task_data.tail(int(len(task_data)*0.2))"
      ],
      "execution_count": 12,
      "outputs": []
    },
    {
      "cell_type": "markdown",
      "metadata": {
        "id": "it_dsaa4kdou"
      },
      "source": [
        "Выделяем предикторы (8 первых столбцов) и отклик (Outcome):"
      ]
    },
    {
      "cell_type": "code",
      "metadata": {
        "id": "il41Uy8Akdov"
      },
      "source": [
        "features = list(train.columns[:8])\n",
        "x = train[features]\n",
        "y = train['Outcome']"
      ],
      "execution_count": 13,
      "outputs": []
    },
    {
      "cell_type": "markdown",
      "metadata": {
        "id": "qI1H_Lbqkdov"
      },
      "source": [
        "Подключем классификатор DecisionTreeClassifier:"
      ]
    },
    {
      "cell_type": "code",
      "metadata": {
        "id": "l8yJuIQnkdov"
      },
      "source": [
        "from sklearn.tree import DecisionTreeClassifier"
      ],
      "execution_count": 14,
      "outputs": []
    },
    {
      "cell_type": "markdown",
      "metadata": {
        "id": "xKfrE7cBkdow"
      },
      "source": [
        "Задаем параметры дерева принятия решений и обучаем модель:"
      ]
    },
    {
      "cell_type": "code",
      "metadata": {
        "id": "bNRGkgxFkdox"
      },
      "source": [
        "tree = DecisionTreeClassifier(criterion='entropy', #критерий разделения\n",
        "                              min_samples_leaf=20, #минимальное число объектов в листе\n",
        "                              max_leaf_nodes=30, #максимальное число листьев\n",
        "                              random_state=2020)\n",
        "clf=tree.fit(x, y)"
      ],
      "execution_count": 15,
      "outputs": []
    },
    {
      "cell_type": "code",
      "metadata": {
        "colab": {
          "base_uri": "https://localhost:8080/"
        },
        "id": "cRitMMwvmBkx",
        "outputId": "e9b3e2fe-face-4464-aae6-654b73c4dad4"
      },
      "source": [
        "#глубина дерева\n",
        "clf.tree_.max_depth"
      ],
      "execution_count": 16,
      "outputs": [
        {
          "output_type": "execute_result",
          "data": {
            "text/plain": [
              "7"
            ]
          },
          "metadata": {
            "tags": []
          },
          "execution_count": 16
        }
      ]
    },
    {
      "cell_type": "markdown",
      "metadata": {
        "id": "3hEs-7Jjkdox"
      },
      "source": [
        "Подключаем библиотеку для визуализации дерева. Сохраняем в файл и выводим на экран."
      ]
    },
    {
      "cell_type": "code",
      "metadata": {
        "colab": {
          "base_uri": "https://localhost:8080/",
          "height": 1000
        },
        "id": "R0KKBEo9kdoy",
        "outputId": "82fb7a08-f67a-4b28-c5ed-58f8aa03e459"
      },
      "source": [
        "from sklearn.tree import export_graphviz\n",
        "import graphviz\n",
        "columns = list(x.columns)\n",
        "export_graphviz(clf, out_file='tree.dot', \n",
        "                feature_names=columns,\n",
        "                class_names=['0', '1'],\n",
        "                rounded = True, proportion = False, \n",
        "                precision = 2, filled = True, label='all')\n",
        "\n",
        "with open('tree.dot') as f:\n",
        "    dot_graph = f.read()\n",
        "\n",
        "graphviz.Source(dot_graph)"
      ],
      "execution_count": 17,
      "outputs": [
        {
          "output_type": "execute_result",
          "data": {
            "text/plain": [
              "<graphviz.files.Source at 0x7f960719f350>"
            ],
            "image/svg+xml": "<?xml version=\"1.0\" encoding=\"UTF-8\" standalone=\"no\"?>\n<!DOCTYPE svg PUBLIC \"-//W3C//DTD SVG 1.1//EN\"\n \"http://www.w3.org/Graphics/SVG/1.1/DTD/svg11.dtd\">\n<!-- Generated by graphviz version 2.40.1 (20161225.0304)\n -->\n<!-- Title: Tree Pages: 1 -->\n<svg width=\"1136pt\" height=\"909pt\"\n viewBox=\"0.00 0.00 1136.00 909.00\" xmlns=\"http://www.w3.org/2000/svg\" xmlns:xlink=\"http://www.w3.org/1999/xlink\">\n<g id=\"graph0\" class=\"graph\" transform=\"scale(1 1) rotate(0) translate(4 905)\">\n<title>Tree</title>\n<polygon fill=\"#ffffff\" stroke=\"transparent\" points=\"-4,4 -4,-905 1132,-905 1132,4 -4,4\"/>\n<!-- 0 -->\n<g id=\"node1\" class=\"node\">\n<title>0</title>\n<path fill=\"#f4ccaf\" stroke=\"#000000\" d=\"M570.5,-901C570.5,-901 462.5,-901 462.5,-901 456.5,-901 450.5,-895 450.5,-889 450.5,-889 450.5,-830 450.5,-830 450.5,-824 456.5,-818 462.5,-818 462.5,-818 570.5,-818 570.5,-818 576.5,-818 582.5,-824 582.5,-830 582.5,-830 582.5,-889 582.5,-889 582.5,-895 576.5,-901 570.5,-901\"/>\n<text text-anchor=\"middle\" x=\"516.5\" y=\"-885.8\" font-family=\"Helvetica,sans-Serif\" font-size=\"14.00\" fill=\"#000000\">Glucose &lt;= 154.5</text>\n<text text-anchor=\"middle\" x=\"516.5\" y=\"-870.8\" font-family=\"Helvetica,sans-Serif\" font-size=\"14.00\" fill=\"#000000\">entropy = 0.95</text>\n<text text-anchor=\"middle\" x=\"516.5\" y=\"-855.8\" font-family=\"Helvetica,sans-Serif\" font-size=\"14.00\" fill=\"#000000\">samples = 472</text>\n<text text-anchor=\"middle\" x=\"516.5\" y=\"-840.8\" font-family=\"Helvetica,sans-Serif\" font-size=\"14.00\" fill=\"#000000\">value = [296, 176]</text>\n<text text-anchor=\"middle\" x=\"516.5\" y=\"-825.8\" font-family=\"Helvetica,sans-Serif\" font-size=\"14.00\" fill=\"#000000\">class = 0</text>\n</g>\n<!-- 1 -->\n<g id=\"node2\" class=\"node\">\n<title>1</title>\n<path fill=\"#efb388\" stroke=\"#000000\" d=\"M470.5,-782C470.5,-782 362.5,-782 362.5,-782 356.5,-782 350.5,-776 350.5,-770 350.5,-770 350.5,-711 350.5,-711 350.5,-705 356.5,-699 362.5,-699 362.5,-699 470.5,-699 470.5,-699 476.5,-699 482.5,-705 482.5,-711 482.5,-711 482.5,-770 482.5,-770 482.5,-776 476.5,-782 470.5,-782\"/>\n<text text-anchor=\"middle\" x=\"416.5\" y=\"-766.8\" font-family=\"Helvetica,sans-Serif\" font-size=\"14.00\" fill=\"#000000\">BMI &lt;= 26.3</text>\n<text text-anchor=\"middle\" x=\"416.5\" y=\"-751.8\" font-family=\"Helvetica,sans-Serif\" font-size=\"14.00\" fill=\"#000000\">entropy = 0.86</text>\n<text text-anchor=\"middle\" x=\"416.5\" y=\"-736.8\" font-family=\"Helvetica,sans-Serif\" font-size=\"14.00\" fill=\"#000000\">samples = 396</text>\n<text text-anchor=\"middle\" x=\"416.5\" y=\"-721.8\" font-family=\"Helvetica,sans-Serif\" font-size=\"14.00\" fill=\"#000000\">value = [283, 113]</text>\n<text text-anchor=\"middle\" x=\"416.5\" y=\"-706.8\" font-family=\"Helvetica,sans-Serif\" font-size=\"14.00\" fill=\"#000000\">class = 0</text>\n</g>\n<!-- 0&#45;&gt;1 -->\n<g id=\"edge1\" class=\"edge\">\n<title>0&#45;&gt;1</title>\n<path fill=\"none\" stroke=\"#000000\" d=\"M481.5249,-817.8796C473.9565,-808.8733 465.8819,-799.2644 458.088,-789.9897\"/>\n<polygon fill=\"#000000\" stroke=\"#000000\" points=\"460.7374,-787.7022 451.6244,-782.2981 455.3784,-792.2056 460.7374,-787.7022\"/>\n<text text-anchor=\"middle\" x=\"449.4636\" y=\"-803.5045\" font-family=\"Helvetica,sans-Serif\" font-size=\"14.00\" fill=\"#000000\">True</text>\n</g>\n<!-- 2 -->\n<g id=\"node29\" class=\"node\">\n<title>2</title>\n<path fill=\"#62b1ea\" stroke=\"#000000\" d=\"M722,-782C722,-782 513,-782 513,-782 507,-782 501,-776 501,-770 501,-770 501,-711 501,-711 501,-705 507,-699 513,-699 513,-699 722,-699 722,-699 728,-699 734,-705 734,-711 734,-711 734,-770 734,-770 734,-776 728,-782 722,-782\"/>\n<text text-anchor=\"middle\" x=\"617.5\" y=\"-766.8\" font-family=\"Helvetica,sans-Serif\" font-size=\"14.00\" fill=\"#000000\">DiabetesPedigreeFunction &lt;= 0.3</text>\n<text text-anchor=\"middle\" x=\"617.5\" y=\"-751.8\" font-family=\"Helvetica,sans-Serif\" font-size=\"14.00\" fill=\"#000000\">entropy = 0.66</text>\n<text text-anchor=\"middle\" x=\"617.5\" y=\"-736.8\" font-family=\"Helvetica,sans-Serif\" font-size=\"14.00\" fill=\"#000000\">samples = 76</text>\n<text text-anchor=\"middle\" x=\"617.5\" y=\"-721.8\" font-family=\"Helvetica,sans-Serif\" font-size=\"14.00\" fill=\"#000000\">value = [13, 63]</text>\n<text text-anchor=\"middle\" x=\"617.5\" y=\"-706.8\" font-family=\"Helvetica,sans-Serif\" font-size=\"14.00\" fill=\"#000000\">class = 1</text>\n</g>\n<!-- 0&#45;&gt;2 -->\n<g id=\"edge28\" class=\"edge\">\n<title>0&#45;&gt;2</title>\n<path fill=\"none\" stroke=\"#000000\" d=\"M551.8249,-817.8796C559.4689,-808.8733 567.6243,-799.2644 575.4961,-789.9897\"/>\n<polygon fill=\"#000000\" stroke=\"#000000\" points=\"578.2218,-792.1871 582.0243,-782.2981 572.8849,-787.6574 578.2218,-792.1871\"/>\n<text text-anchor=\"middle\" x=\"584.063\" y=\"-803.5148\" font-family=\"Helvetica,sans-Serif\" font-size=\"14.00\" fill=\"#000000\">False</text>\n</g>\n<!-- 3 -->\n<g id=\"node3\" class=\"node\">\n<title>3</title>\n<path fill=\"#e68641\" stroke=\"#000000\" d=\"M250,-663C250,-663 131,-663 131,-663 125,-663 119,-657 119,-651 119,-651 119,-592 119,-592 119,-586 125,-580 131,-580 131,-580 250,-580 250,-580 256,-580 262,-586 262,-592 262,-592 262,-651 262,-651 262,-657 256,-663 250,-663\"/>\n<text text-anchor=\"middle\" x=\"190.5\" y=\"-647.8\" font-family=\"Helvetica,sans-Serif\" font-size=\"14.00\" fill=\"#000000\">Pregnancies &lt;= 2.5</text>\n<text text-anchor=\"middle\" x=\"190.5\" y=\"-632.8\" font-family=\"Helvetica,sans-Serif\" font-size=\"14.00\" fill=\"#000000\">entropy = 0.25</text>\n<text text-anchor=\"middle\" x=\"190.5\" y=\"-617.8\" font-family=\"Helvetica,sans-Serif\" font-size=\"14.00\" fill=\"#000000\">samples = 98</text>\n<text text-anchor=\"middle\" x=\"190.5\" y=\"-602.8\" font-family=\"Helvetica,sans-Serif\" font-size=\"14.00\" fill=\"#000000\">value = [94, 4]</text>\n<text text-anchor=\"middle\" x=\"190.5\" y=\"-587.8\" font-family=\"Helvetica,sans-Serif\" font-size=\"14.00\" fill=\"#000000\">class = 0</text>\n</g>\n<!-- 1&#45;&gt;3 -->\n<g id=\"edge2\" class=\"edge\">\n<title>1&#45;&gt;3</title>\n<path fill=\"none\" stroke=\"#000000\" d=\"M350.2196,-705.6001C325.5196,-692.5944 297.205,-677.6854 271.342,-664.0673\"/>\n<polygon fill=\"#000000\" stroke=\"#000000\" points=\"272.7852,-660.8717 262.3062,-659.3095 269.5239,-667.0655 272.7852,-660.8717\"/>\n</g>\n<!-- 4 -->\n<g id=\"node8\" class=\"node\">\n<title>4</title>\n<path fill=\"#f4caab\" stroke=\"#000000\" d=\"M498.5,-663C498.5,-663 390.5,-663 390.5,-663 384.5,-663 378.5,-657 378.5,-651 378.5,-651 378.5,-592 378.5,-592 378.5,-586 384.5,-580 390.5,-580 390.5,-580 498.5,-580 498.5,-580 504.5,-580 510.5,-586 510.5,-592 510.5,-592 510.5,-651 510.5,-651 510.5,-657 504.5,-663 498.5,-663\"/>\n<text text-anchor=\"middle\" x=\"444.5\" y=\"-647.8\" font-family=\"Helvetica,sans-Serif\" font-size=\"14.00\" fill=\"#000000\">Glucose &lt;= 99.5</text>\n<text text-anchor=\"middle\" x=\"444.5\" y=\"-632.8\" font-family=\"Helvetica,sans-Serif\" font-size=\"14.00\" fill=\"#000000\">entropy = 0.95</text>\n<text text-anchor=\"middle\" x=\"444.5\" y=\"-617.8\" font-family=\"Helvetica,sans-Serif\" font-size=\"14.00\" fill=\"#000000\">samples = 298</text>\n<text text-anchor=\"middle\" x=\"444.5\" y=\"-602.8\" font-family=\"Helvetica,sans-Serif\" font-size=\"14.00\" fill=\"#000000\">value = [189, 109]</text>\n<text text-anchor=\"middle\" x=\"444.5\" y=\"-587.8\" font-family=\"Helvetica,sans-Serif\" font-size=\"14.00\" fill=\"#000000\">class = 0</text>\n</g>\n<!-- 1&#45;&gt;4 -->\n<g id=\"edge7\" class=\"edge\">\n<title>1&#45;&gt;4</title>\n<path fill=\"none\" stroke=\"#000000\" d=\"M426.293,-698.8796C428.2426,-690.5938 430.3122,-681.798 432.3302,-673.2216\"/>\n<polygon fill=\"#000000\" stroke=\"#000000\" points=\"435.7817,-673.8339 434.6652,-663.2981 428.9677,-672.2306 435.7817,-673.8339\"/>\n</g>\n<!-- 15 -->\n<g id=\"node4\" class=\"node\">\n<title>15</title>\n<path fill=\"#e58139\" stroke=\"#000000\" d=\"M95,-536.5C95,-536.5 12,-536.5 12,-536.5 6,-536.5 0,-530.5 0,-524.5 0,-524.5 0,-480.5 0,-480.5 0,-474.5 6,-468.5 12,-468.5 12,-468.5 95,-468.5 95,-468.5 101,-468.5 107,-474.5 107,-480.5 107,-480.5 107,-524.5 107,-524.5 107,-530.5 101,-536.5 95,-536.5\"/>\n<text text-anchor=\"middle\" x=\"53.5\" y=\"-521.3\" font-family=\"Helvetica,sans-Serif\" font-size=\"14.00\" fill=\"#000000\">entropy = 0.0</text>\n<text text-anchor=\"middle\" x=\"53.5\" y=\"-506.3\" font-family=\"Helvetica,sans-Serif\" font-size=\"14.00\" fill=\"#000000\">samples = 57</text>\n<text text-anchor=\"middle\" x=\"53.5\" y=\"-491.3\" font-family=\"Helvetica,sans-Serif\" font-size=\"14.00\" fill=\"#000000\">value = [57, 0]</text>\n<text text-anchor=\"middle\" x=\"53.5\" y=\"-476.3\" font-family=\"Helvetica,sans-Serif\" font-size=\"14.00\" fill=\"#000000\">class = 0</text>\n</g>\n<!-- 3&#45;&gt;15 -->\n<g id=\"edge3\" class=\"edge\">\n<title>3&#45;&gt;15</title>\n<path fill=\"none\" stroke=\"#000000\" d=\"M142.584,-579.8796C129.0385,-568.1138 114.3092,-555.3197 100.8002,-543.5855\"/>\n<polygon fill=\"#000000\" stroke=\"#000000\" points=\"102.8503,-540.7303 93.0054,-536.8149 98.2599,-546.015 102.8503,-540.7303\"/>\n</g>\n<!-- 16 -->\n<g id=\"node5\" class=\"node\">\n<title>16</title>\n<path fill=\"#e88f4e\" stroke=\"#000000\" d=\"M244,-544C244,-544 137,-544 137,-544 131,-544 125,-538 125,-532 125,-532 125,-473 125,-473 125,-467 131,-461 137,-461 137,-461 244,-461 244,-461 250,-461 256,-467 256,-473 256,-473 256,-532 256,-532 256,-538 250,-544 244,-544\"/>\n<text text-anchor=\"middle\" x=\"190.5\" y=\"-528.8\" font-family=\"Helvetica,sans-Serif\" font-size=\"14.00\" fill=\"#000000\">Glucose &lt;= 112.5</text>\n<text text-anchor=\"middle\" x=\"190.5\" y=\"-513.8\" font-family=\"Helvetica,sans-Serif\" font-size=\"14.00\" fill=\"#000000\">entropy = 0.46</text>\n<text text-anchor=\"middle\" x=\"190.5\" y=\"-498.8\" font-family=\"Helvetica,sans-Serif\" font-size=\"14.00\" fill=\"#000000\">samples = 41</text>\n<text text-anchor=\"middle\" x=\"190.5\" y=\"-483.8\" font-family=\"Helvetica,sans-Serif\" font-size=\"14.00\" fill=\"#000000\">value = [37, 4]</text>\n<text text-anchor=\"middle\" x=\"190.5\" y=\"-468.8\" font-family=\"Helvetica,sans-Serif\" font-size=\"14.00\" fill=\"#000000\">class = 0</text>\n</g>\n<!-- 3&#45;&gt;16 -->\n<g id=\"edge4\" class=\"edge\">\n<title>3&#45;&gt;16</title>\n<path fill=\"none\" stroke=\"#000000\" d=\"M190.5,-579.8796C190.5,-571.6838 190.5,-562.9891 190.5,-554.5013\"/>\n<polygon fill=\"#000000\" stroke=\"#000000\" points=\"194.0001,-554.298 190.5,-544.2981 187.0001,-554.2981 194.0001,-554.298\"/>\n</g>\n<!-- 31 -->\n<g id=\"node6\" class=\"node\">\n<title>31</title>\n<path fill=\"#e68743\" stroke=\"#000000\" d=\"M105.5,-417.5C105.5,-417.5 19.5,-417.5 19.5,-417.5 13.5,-417.5 7.5,-411.5 7.5,-405.5 7.5,-405.5 7.5,-361.5 7.5,-361.5 7.5,-355.5 13.5,-349.5 19.5,-349.5 19.5,-349.5 105.5,-349.5 105.5,-349.5 111.5,-349.5 117.5,-355.5 117.5,-361.5 117.5,-361.5 117.5,-405.5 117.5,-405.5 117.5,-411.5 111.5,-417.5 105.5,-417.5\"/>\n<text text-anchor=\"middle\" x=\"62.5\" y=\"-402.3\" font-family=\"Helvetica,sans-Serif\" font-size=\"14.00\" fill=\"#000000\">entropy = 0.28</text>\n<text text-anchor=\"middle\" x=\"62.5\" y=\"-387.3\" font-family=\"Helvetica,sans-Serif\" font-size=\"14.00\" fill=\"#000000\">samples = 21</text>\n<text text-anchor=\"middle\" x=\"62.5\" y=\"-372.3\" font-family=\"Helvetica,sans-Serif\" font-size=\"14.00\" fill=\"#000000\">value = [20, 1]</text>\n<text text-anchor=\"middle\" x=\"62.5\" y=\"-357.3\" font-family=\"Helvetica,sans-Serif\" font-size=\"14.00\" fill=\"#000000\">class = 0</text>\n</g>\n<!-- 16&#45;&gt;31 -->\n<g id=\"edge5\" class=\"edge\">\n<title>16&#45;&gt;31</title>\n<path fill=\"none\" stroke=\"#000000\" d=\"M145.7318,-460.8796C133.1944,-449.2237 119.5716,-436.5587 107.047,-424.9148\"/>\n<polygon fill=\"#000000\" stroke=\"#000000\" points=\"109.1172,-422.0605 99.4102,-417.8149 104.3509,-427.1872 109.1172,-422.0605\"/>\n</g>\n<!-- 32 -->\n<g id=\"node7\" class=\"node\">\n<title>32</title>\n<path fill=\"#ea975c\" stroke=\"#000000\" d=\"M233.5,-417.5C233.5,-417.5 147.5,-417.5 147.5,-417.5 141.5,-417.5 135.5,-411.5 135.5,-405.5 135.5,-405.5 135.5,-361.5 135.5,-361.5 135.5,-355.5 141.5,-349.5 147.5,-349.5 147.5,-349.5 233.5,-349.5 233.5,-349.5 239.5,-349.5 245.5,-355.5 245.5,-361.5 245.5,-361.5 245.5,-405.5 245.5,-405.5 245.5,-411.5 239.5,-417.5 233.5,-417.5\"/>\n<text text-anchor=\"middle\" x=\"190.5\" y=\"-402.3\" font-family=\"Helvetica,sans-Serif\" font-size=\"14.00\" fill=\"#000000\">entropy = 0.61</text>\n<text text-anchor=\"middle\" x=\"190.5\" y=\"-387.3\" font-family=\"Helvetica,sans-Serif\" font-size=\"14.00\" fill=\"#000000\">samples = 20</text>\n<text text-anchor=\"middle\" x=\"190.5\" y=\"-372.3\" font-family=\"Helvetica,sans-Serif\" font-size=\"14.00\" fill=\"#000000\">value = [17, 3]</text>\n<text text-anchor=\"middle\" x=\"190.5\" y=\"-357.3\" font-family=\"Helvetica,sans-Serif\" font-size=\"14.00\" fill=\"#000000\">class = 0</text>\n</g>\n<!-- 16&#45;&gt;32 -->\n<g id=\"edge6\" class=\"edge\">\n<title>16&#45;&gt;32</title>\n<path fill=\"none\" stroke=\"#000000\" d=\"M190.5,-460.8796C190.5,-450.2134 190.5,-438.7021 190.5,-427.9015\"/>\n<polygon fill=\"#000000\" stroke=\"#000000\" points=\"194.0001,-427.8149 190.5,-417.8149 187.0001,-427.815 194.0001,-427.8149\"/>\n</g>\n<!-- 5 -->\n<g id=\"node9\" class=\"node\">\n<title>5</title>\n<path fill=\"#e89254\" stroke=\"#000000\" d=\"M487.5,-544C487.5,-544 401.5,-544 401.5,-544 395.5,-544 389.5,-538 389.5,-532 389.5,-532 389.5,-473 389.5,-473 389.5,-467 395.5,-461 401.5,-461 401.5,-461 487.5,-461 487.5,-461 493.5,-461 499.5,-467 499.5,-473 499.5,-473 499.5,-532 499.5,-532 499.5,-538 493.5,-544 487.5,-544\"/>\n<text text-anchor=\"middle\" x=\"444.5\" y=\"-528.8\" font-family=\"Helvetica,sans-Serif\" font-size=\"14.00\" fill=\"#000000\">Age &lt;= 25.5</text>\n<text text-anchor=\"middle\" x=\"444.5\" y=\"-513.8\" font-family=\"Helvetica,sans-Serif\" font-size=\"14.00\" fill=\"#000000\">entropy = 0.52</text>\n<text text-anchor=\"middle\" x=\"444.5\" y=\"-498.8\" font-family=\"Helvetica,sans-Serif\" font-size=\"14.00\" fill=\"#000000\">samples = 76</text>\n<text text-anchor=\"middle\" x=\"444.5\" y=\"-483.8\" font-family=\"Helvetica,sans-Serif\" font-size=\"14.00\" fill=\"#000000\">value = [67, 9]</text>\n<text text-anchor=\"middle\" x=\"444.5\" y=\"-468.8\" font-family=\"Helvetica,sans-Serif\" font-size=\"14.00\" fill=\"#000000\">class = 0</text>\n</g>\n<!-- 4&#45;&gt;5 -->\n<g id=\"edge8\" class=\"edge\">\n<title>4&#45;&gt;5</title>\n<path fill=\"none\" stroke=\"#000000\" d=\"M444.5,-579.8796C444.5,-571.6838 444.5,-562.9891 444.5,-554.5013\"/>\n<polygon fill=\"#000000\" stroke=\"#000000\" points=\"448.0001,-554.298 444.5,-544.2981 441.0001,-554.2981 448.0001,-554.298\"/>\n</g>\n<!-- 6 -->\n<g id=\"node14\" class=\"node\">\n<title>6</title>\n<path fill=\"#fae8db\" stroke=\"#000000\" d=\"M641.5,-544C641.5,-544 533.5,-544 533.5,-544 527.5,-544 521.5,-538 521.5,-532 521.5,-532 521.5,-473 521.5,-473 521.5,-467 527.5,-461 533.5,-461 533.5,-461 641.5,-461 641.5,-461 647.5,-461 653.5,-467 653.5,-473 653.5,-473 653.5,-532 653.5,-532 653.5,-538 647.5,-544 641.5,-544\"/>\n<text text-anchor=\"middle\" x=\"587.5\" y=\"-528.8\" font-family=\"Helvetica,sans-Serif\" font-size=\"14.00\" fill=\"#000000\">Age &lt;= 28.5</text>\n<text text-anchor=\"middle\" x=\"587.5\" y=\"-513.8\" font-family=\"Helvetica,sans-Serif\" font-size=\"14.00\" fill=\"#000000\">entropy = 0.99</text>\n<text text-anchor=\"middle\" x=\"587.5\" y=\"-498.8\" font-family=\"Helvetica,sans-Serif\" font-size=\"14.00\" fill=\"#000000\">samples = 222</text>\n<text text-anchor=\"middle\" x=\"587.5\" y=\"-483.8\" font-family=\"Helvetica,sans-Serif\" font-size=\"14.00\" fill=\"#000000\">value = [122, 100]</text>\n<text text-anchor=\"middle\" x=\"587.5\" y=\"-468.8\" font-family=\"Helvetica,sans-Serif\" font-size=\"14.00\" fill=\"#000000\">class = 0</text>\n</g>\n<!-- 4&#45;&gt;6 -->\n<g id=\"edge13\" class=\"edge\">\n<title>4&#45;&gt;6</title>\n<path fill=\"none\" stroke=\"#000000\" d=\"M494.5145,-579.8796C505.7701,-570.513 517.8088,-560.4948 529.3646,-550.8784\"/>\n<polygon fill=\"#000000\" stroke=\"#000000\" points=\"531.8242,-553.385 537.2721,-544.2981 527.3466,-548.0043 531.8242,-553.385\"/>\n</g>\n<!-- 11 -->\n<g id=\"node10\" class=\"node\">\n<title>11</title>\n<path fill=\"#e6843e\" stroke=\"#000000\" d=\"M363,-425C363,-425 276,-425 276,-425 270,-425 264,-419 264,-413 264,-413 264,-354 264,-354 264,-348 270,-342 276,-342 276,-342 363,-342 363,-342 369,-342 375,-348 375,-354 375,-354 375,-413 375,-413 375,-419 369,-425 363,-425\"/>\n<text text-anchor=\"middle\" x=\"319.5\" y=\"-409.8\" font-family=\"Helvetica,sans-Serif\" font-size=\"14.00\" fill=\"#000000\">Insulin &lt;= 36.5</text>\n<text text-anchor=\"middle\" x=\"319.5\" y=\"-394.8\" font-family=\"Helvetica,sans-Serif\" font-size=\"14.00\" fill=\"#000000\">entropy = 0.16</text>\n<text text-anchor=\"middle\" x=\"319.5\" y=\"-379.8\" font-family=\"Helvetica,sans-Serif\" font-size=\"14.00\" fill=\"#000000\">samples = 42</text>\n<text text-anchor=\"middle\" x=\"319.5\" y=\"-364.8\" font-family=\"Helvetica,sans-Serif\" font-size=\"14.00\" fill=\"#000000\">value = [41, 1]</text>\n<text text-anchor=\"middle\" x=\"319.5\" y=\"-349.8\" font-family=\"Helvetica,sans-Serif\" font-size=\"14.00\" fill=\"#000000\">class = 0</text>\n</g>\n<!-- 5&#45;&gt;11 -->\n<g id=\"edge9\" class=\"edge\">\n<title>5&#45;&gt;11</title>\n<path fill=\"none\" stroke=\"#000000\" d=\"M400.7811,-460.8796C391.1314,-451.6931 380.8234,-441.8798 370.9009,-432.4336\"/>\n<polygon fill=\"#000000\" stroke=\"#000000\" points=\"373.0616,-429.6582 363.4055,-425.2981 368.235,-434.7282 373.0616,-429.6582\"/>\n</g>\n<!-- 12 -->\n<g id=\"node13\" class=\"node\">\n<title>12</title>\n<path fill=\"#eda876\" stroke=\"#000000\" d=\"M491.5,-417.5C491.5,-417.5 405.5,-417.5 405.5,-417.5 399.5,-417.5 393.5,-411.5 393.5,-405.5 393.5,-405.5 393.5,-361.5 393.5,-361.5 393.5,-355.5 399.5,-349.5 405.5,-349.5 405.5,-349.5 491.5,-349.5 491.5,-349.5 497.5,-349.5 503.5,-355.5 503.5,-361.5 503.5,-361.5 503.5,-405.5 503.5,-405.5 503.5,-411.5 497.5,-417.5 491.5,-417.5\"/>\n<text text-anchor=\"middle\" x=\"448.5\" y=\"-402.3\" font-family=\"Helvetica,sans-Serif\" font-size=\"14.00\" fill=\"#000000\">entropy = 0.79</text>\n<text text-anchor=\"middle\" x=\"448.5\" y=\"-387.3\" font-family=\"Helvetica,sans-Serif\" font-size=\"14.00\" fill=\"#000000\">samples = 34</text>\n<text text-anchor=\"middle\" x=\"448.5\" y=\"-372.3\" font-family=\"Helvetica,sans-Serif\" font-size=\"14.00\" fill=\"#000000\">value = [26, 8]</text>\n<text text-anchor=\"middle\" x=\"448.5\" y=\"-357.3\" font-family=\"Helvetica,sans-Serif\" font-size=\"14.00\" fill=\"#000000\">class = 0</text>\n</g>\n<!-- 5&#45;&gt;12 -->\n<g id=\"edge12\" class=\"edge\">\n<title>5&#45;&gt;12</title>\n<path fill=\"none\" stroke=\"#000000\" d=\"M445.899,-460.8796C446.2575,-450.2134 446.6445,-438.7021 447.0075,-427.9015\"/>\n<polygon fill=\"#000000\" stroke=\"#000000\" points=\"450.5085,-427.9269 447.3466,-417.8149 443.5125,-427.6917 450.5085,-427.9269\"/>\n</g>\n<!-- 29 -->\n<g id=\"node11\" class=\"node\">\n<title>29</title>\n<path fill=\"#e68843\" stroke=\"#000000\" d=\"M242.5,-298.5C242.5,-298.5 156.5,-298.5 156.5,-298.5 150.5,-298.5 144.5,-292.5 144.5,-286.5 144.5,-286.5 144.5,-242.5 144.5,-242.5 144.5,-236.5 150.5,-230.5 156.5,-230.5 156.5,-230.5 242.5,-230.5 242.5,-230.5 248.5,-230.5 254.5,-236.5 254.5,-242.5 254.5,-242.5 254.5,-286.5 254.5,-286.5 254.5,-292.5 248.5,-298.5 242.5,-298.5\"/>\n<text text-anchor=\"middle\" x=\"199.5\" y=\"-283.3\" font-family=\"Helvetica,sans-Serif\" font-size=\"14.00\" fill=\"#000000\">entropy = 0.29</text>\n<text text-anchor=\"middle\" x=\"199.5\" y=\"-268.3\" font-family=\"Helvetica,sans-Serif\" font-size=\"14.00\" fill=\"#000000\">samples = 20</text>\n<text text-anchor=\"middle\" x=\"199.5\" y=\"-253.3\" font-family=\"Helvetica,sans-Serif\" font-size=\"14.00\" fill=\"#000000\">value = [19, 1]</text>\n<text text-anchor=\"middle\" x=\"199.5\" y=\"-238.3\" font-family=\"Helvetica,sans-Serif\" font-size=\"14.00\" fill=\"#000000\">class = 0</text>\n</g>\n<!-- 11&#45;&gt;29 -->\n<g id=\"edge10\" class=\"edge\">\n<title>11&#45;&gt;29</title>\n<path fill=\"none\" stroke=\"#000000\" d=\"M277.5298,-341.8796C265.776,-330.2237 253.0046,-317.5587 241.2628,-305.9148\"/>\n<polygon fill=\"#000000\" stroke=\"#000000\" points=\"243.6684,-303.3712 234.1033,-298.8149 238.7394,-308.3416 243.6684,-303.3712\"/>\n</g>\n<!-- 30 -->\n<g id=\"node12\" class=\"node\">\n<title>30</title>\n<path fill=\"#e58139\" stroke=\"#000000\" d=\"M368,-298.5C368,-298.5 285,-298.5 285,-298.5 279,-298.5 273,-292.5 273,-286.5 273,-286.5 273,-242.5 273,-242.5 273,-236.5 279,-230.5 285,-230.5 285,-230.5 368,-230.5 368,-230.5 374,-230.5 380,-236.5 380,-242.5 380,-242.5 380,-286.5 380,-286.5 380,-292.5 374,-298.5 368,-298.5\"/>\n<text text-anchor=\"middle\" x=\"326.5\" y=\"-283.3\" font-family=\"Helvetica,sans-Serif\" font-size=\"14.00\" fill=\"#000000\">entropy = 0.0</text>\n<text text-anchor=\"middle\" x=\"326.5\" y=\"-268.3\" font-family=\"Helvetica,sans-Serif\" font-size=\"14.00\" fill=\"#000000\">samples = 22</text>\n<text text-anchor=\"middle\" x=\"326.5\" y=\"-253.3\" font-family=\"Helvetica,sans-Serif\" font-size=\"14.00\" fill=\"#000000\">value = [22, 0]</text>\n<text text-anchor=\"middle\" x=\"326.5\" y=\"-238.3\" font-family=\"Helvetica,sans-Serif\" font-size=\"14.00\" fill=\"#000000\">class = 0</text>\n</g>\n<!-- 11&#45;&gt;30 -->\n<g id=\"edge11\" class=\"edge\">\n<title>11&#45;&gt;30</title>\n<path fill=\"none\" stroke=\"#000000\" d=\"M321.9483,-341.8796C322.5757,-331.2134 323.2528,-319.7021 323.8881,-308.9015\"/>\n<polygon fill=\"#000000\" stroke=\"#000000\" points=\"327.3881,-309.0032 324.4815,-298.8149 320.4002,-308.5921 327.3881,-309.0032\"/>\n</g>\n<!-- 7 -->\n<g id=\"node15\" class=\"node\">\n<title>7</title>\n<path fill=\"#f1b991\" stroke=\"#000000\" d=\"M641,-425C641,-425 534,-425 534,-425 528,-425 522,-419 522,-413 522,-413 522,-354 522,-354 522,-348 528,-342 534,-342 534,-342 641,-342 641,-342 647,-342 653,-348 653,-354 653,-354 653,-413 653,-413 653,-419 647,-425 641,-425\"/>\n<text text-anchor=\"middle\" x=\"587.5\" y=\"-409.8\" font-family=\"Helvetica,sans-Serif\" font-size=\"14.00\" fill=\"#000000\">Glucose &lt;= 127.5</text>\n<text text-anchor=\"middle\" x=\"587.5\" y=\"-394.8\" font-family=\"Helvetica,sans-Serif\" font-size=\"14.00\" fill=\"#000000\">entropy = 0.89</text>\n<text text-anchor=\"middle\" x=\"587.5\" y=\"-379.8\" font-family=\"Helvetica,sans-Serif\" font-size=\"14.00\" fill=\"#000000\">samples = 88</text>\n<text text-anchor=\"middle\" x=\"587.5\" y=\"-364.8\" font-family=\"Helvetica,sans-Serif\" font-size=\"14.00\" fill=\"#000000\">value = [61, 27]</text>\n<text text-anchor=\"middle\" x=\"587.5\" y=\"-349.8\" font-family=\"Helvetica,sans-Serif\" font-size=\"14.00\" fill=\"#000000\">class = 0</text>\n</g>\n<!-- 6&#45;&gt;7 -->\n<g id=\"edge14\" class=\"edge\">\n<title>6&#45;&gt;7</title>\n<path fill=\"none\" stroke=\"#000000\" d=\"M587.5,-460.8796C587.5,-452.6838 587.5,-443.9891 587.5,-435.5013\"/>\n<polygon fill=\"#000000\" stroke=\"#000000\" points=\"591.0001,-435.298 587.5,-425.2981 584.0001,-435.2981 591.0001,-435.298\"/>\n</g>\n<!-- 8 -->\n<g id=\"node20\" class=\"node\">\n<title>8</title>\n<path fill=\"#deeffb\" stroke=\"#000000\" d=\"M901.5,-425C901.5,-425 683.5,-425 683.5,-425 677.5,-425 671.5,-419 671.5,-413 671.5,-413 671.5,-354 671.5,-354 671.5,-348 677.5,-342 683.5,-342 683.5,-342 901.5,-342 901.5,-342 907.5,-342 913.5,-348 913.5,-354 913.5,-354 913.5,-413 913.5,-413 913.5,-419 907.5,-425 901.5,-425\"/>\n<text text-anchor=\"middle\" x=\"792.5\" y=\"-409.8\" font-family=\"Helvetica,sans-Serif\" font-size=\"14.00\" fill=\"#000000\">DiabetesPedigreeFunction &lt;= 0.51</text>\n<text text-anchor=\"middle\" x=\"792.5\" y=\"-394.8\" font-family=\"Helvetica,sans-Serif\" font-size=\"14.00\" fill=\"#000000\">entropy = 0.99</text>\n<text text-anchor=\"middle\" x=\"792.5\" y=\"-379.8\" font-family=\"Helvetica,sans-Serif\" font-size=\"14.00\" fill=\"#000000\">samples = 134</text>\n<text text-anchor=\"middle\" x=\"792.5\" y=\"-364.8\" font-family=\"Helvetica,sans-Serif\" font-size=\"14.00\" fill=\"#000000\">value = [61, 73]</text>\n<text text-anchor=\"middle\" x=\"792.5\" y=\"-349.8\" font-family=\"Helvetica,sans-Serif\" font-size=\"14.00\" fill=\"#000000\">class = 1</text>\n</g>\n<!-- 6&#45;&gt;8 -->\n<g id=\"edge19\" class=\"edge\">\n<title>6&#45;&gt;8</title>\n<path fill=\"none\" stroke=\"#000000\" d=\"M653.7745,-464.0284C672.3387,-453.2522 692.7222,-441.4198 712.0138,-430.2212\"/>\n<polygon fill=\"#000000\" stroke=\"#000000\" points=\"713.8989,-433.174 720.7903,-425.1266 710.3846,-427.12 713.8989,-433.174\"/>\n</g>\n<!-- 17 -->\n<g id=\"node16\" class=\"node\">\n<title>17</title>\n<path fill=\"#eca26d\" stroke=\"#000000\" d=\"M563.5,-306C563.5,-306 423.5,-306 423.5,-306 417.5,-306 411.5,-300 411.5,-294 411.5,-294 411.5,-235 411.5,-235 411.5,-229 417.5,-223 423.5,-223 423.5,-223 563.5,-223 563.5,-223 569.5,-223 575.5,-229 575.5,-235 575.5,-235 575.5,-294 575.5,-294 575.5,-300 569.5,-306 563.5,-306\"/>\n<text text-anchor=\"middle\" x=\"493.5\" y=\"-290.8\" font-family=\"Helvetica,sans-Serif\" font-size=\"14.00\" fill=\"#000000\">SkinThickness &lt;= 29.5</text>\n<text text-anchor=\"middle\" x=\"493.5\" y=\"-275.8\" font-family=\"Helvetica,sans-Serif\" font-size=\"14.00\" fill=\"#000000\">entropy = 0.74</text>\n<text text-anchor=\"middle\" x=\"493.5\" y=\"-260.8\" font-family=\"Helvetica,sans-Serif\" font-size=\"14.00\" fill=\"#000000\">samples = 53</text>\n<text text-anchor=\"middle\" x=\"493.5\" y=\"-245.8\" font-family=\"Helvetica,sans-Serif\" font-size=\"14.00\" fill=\"#000000\">value = [42, 11]</text>\n<text text-anchor=\"middle\" x=\"493.5\" y=\"-230.8\" font-family=\"Helvetica,sans-Serif\" font-size=\"14.00\" fill=\"#000000\">class = 0</text>\n</g>\n<!-- 7&#45;&gt;17 -->\n<g id=\"edge15\" class=\"edge\">\n<title>7&#45;&gt;17</title>\n<path fill=\"none\" stroke=\"#000000\" d=\"M554.6234,-341.8796C547.5803,-332.9633 540.0707,-323.4565 532.8126,-314.268\"/>\n<polygon fill=\"#000000\" stroke=\"#000000\" points=\"535.4621,-311.9757 526.517,-306.2981 529.9691,-316.3147 535.4621,-311.9757\"/>\n</g>\n<!-- 18 -->\n<g id=\"node19\" class=\"node\">\n<title>18</title>\n<path fill=\"#fbebe0\" stroke=\"#000000\" d=\"M697.5,-298.5C697.5,-298.5 605.5,-298.5 605.5,-298.5 599.5,-298.5 593.5,-292.5 593.5,-286.5 593.5,-286.5 593.5,-242.5 593.5,-242.5 593.5,-236.5 599.5,-230.5 605.5,-230.5 605.5,-230.5 697.5,-230.5 697.5,-230.5 703.5,-230.5 709.5,-236.5 709.5,-242.5 709.5,-242.5 709.5,-286.5 709.5,-286.5 709.5,-292.5 703.5,-298.5 697.5,-298.5\"/>\n<text text-anchor=\"middle\" x=\"651.5\" y=\"-283.3\" font-family=\"Helvetica,sans-Serif\" font-size=\"14.00\" fill=\"#000000\">entropy = 0.99</text>\n<text text-anchor=\"middle\" x=\"651.5\" y=\"-268.3\" font-family=\"Helvetica,sans-Serif\" font-size=\"14.00\" fill=\"#000000\">samples = 35</text>\n<text text-anchor=\"middle\" x=\"651.5\" y=\"-253.3\" font-family=\"Helvetica,sans-Serif\" font-size=\"14.00\" fill=\"#000000\">value = [19, 16]</text>\n<text text-anchor=\"middle\" x=\"651.5\" y=\"-238.3\" font-family=\"Helvetica,sans-Serif\" font-size=\"14.00\" fill=\"#000000\">class = 0</text>\n</g>\n<!-- 7&#45;&gt;18 -->\n<g id=\"edge18\" class=\"edge\">\n<title>7&#45;&gt;18</title>\n<path fill=\"none\" stroke=\"#000000\" d=\"M609.8841,-341.8796C615.798,-330.8835 622.1949,-318.9893 628.158,-307.9015\"/>\n<polygon fill=\"#000000\" stroke=\"#000000\" points=\"631.3908,-309.2799 633.0449,-298.8149 625.2258,-305.9642 631.3908,-309.2799\"/>\n</g>\n<!-- 27 -->\n<g id=\"node17\" class=\"node\">\n<title>27</title>\n<path fill=\"#e89153\" stroke=\"#000000\" d=\"M412.5,-179.5C412.5,-179.5 326.5,-179.5 326.5,-179.5 320.5,-179.5 314.5,-173.5 314.5,-167.5 314.5,-167.5 314.5,-123.5 314.5,-123.5 314.5,-117.5 320.5,-111.5 326.5,-111.5 326.5,-111.5 412.5,-111.5 412.5,-111.5 418.5,-111.5 424.5,-117.5 424.5,-123.5 424.5,-123.5 424.5,-167.5 424.5,-167.5 424.5,-173.5 418.5,-179.5 412.5,-179.5\"/>\n<text text-anchor=\"middle\" x=\"369.5\" y=\"-164.3\" font-family=\"Helvetica,sans-Serif\" font-size=\"14.00\" fill=\"#000000\">entropy = 0.52</text>\n<text text-anchor=\"middle\" x=\"369.5\" y=\"-149.3\" font-family=\"Helvetica,sans-Serif\" font-size=\"14.00\" fill=\"#000000\">samples = 26</text>\n<text text-anchor=\"middle\" x=\"369.5\" y=\"-134.3\" font-family=\"Helvetica,sans-Serif\" font-size=\"14.00\" fill=\"#000000\">value = [23, 3]</text>\n<text text-anchor=\"middle\" x=\"369.5\" y=\"-119.3\" font-family=\"Helvetica,sans-Serif\" font-size=\"14.00\" fill=\"#000000\">class = 0</text>\n</g>\n<!-- 17&#45;&gt;27 -->\n<g id=\"edge16\" class=\"edge\">\n<title>17&#45;&gt;27</title>\n<path fill=\"none\" stroke=\"#000000\" d=\"M450.1308,-222.8796C437.9852,-211.2237 424.7881,-198.5587 412.6549,-186.9148\"/>\n<polygon fill=\"#000000\" stroke=\"#000000\" points=\"414.8953,-184.2138 405.2567,-179.8149 410.0484,-189.2643 414.8953,-184.2138\"/>\n</g>\n<!-- 28 -->\n<g id=\"node18\" class=\"node\">\n<title>28</title>\n<path fill=\"#f0b68c\" stroke=\"#000000\" d=\"M540.5,-179.5C540.5,-179.5 454.5,-179.5 454.5,-179.5 448.5,-179.5 442.5,-173.5 442.5,-167.5 442.5,-167.5 442.5,-123.5 442.5,-123.5 442.5,-117.5 448.5,-111.5 454.5,-111.5 454.5,-111.5 540.5,-111.5 540.5,-111.5 546.5,-111.5 552.5,-117.5 552.5,-123.5 552.5,-123.5 552.5,-167.5 552.5,-167.5 552.5,-173.5 546.5,-179.5 540.5,-179.5\"/>\n<text text-anchor=\"middle\" x=\"497.5\" y=\"-164.3\" font-family=\"Helvetica,sans-Serif\" font-size=\"14.00\" fill=\"#000000\">entropy = 0.88</text>\n<text text-anchor=\"middle\" x=\"497.5\" y=\"-149.3\" font-family=\"Helvetica,sans-Serif\" font-size=\"14.00\" fill=\"#000000\">samples = 27</text>\n<text text-anchor=\"middle\" x=\"497.5\" y=\"-134.3\" font-family=\"Helvetica,sans-Serif\" font-size=\"14.00\" fill=\"#000000\">value = [19, 8]</text>\n<text text-anchor=\"middle\" x=\"497.5\" y=\"-119.3\" font-family=\"Helvetica,sans-Serif\" font-size=\"14.00\" fill=\"#000000\">class = 0</text>\n</g>\n<!-- 17&#45;&gt;28 -->\n<g id=\"edge17\" class=\"edge\">\n<title>17&#45;&gt;28</title>\n<path fill=\"none\" stroke=\"#000000\" d=\"M494.899,-222.8796C495.2575,-212.2134 495.6445,-200.7021 496.0075,-189.9015\"/>\n<polygon fill=\"#000000\" stroke=\"#000000\" points=\"499.5085,-189.9269 496.3466,-179.8149 492.5125,-189.6917 499.5085,-189.9269\"/>\n</g>\n<!-- 19 -->\n<g id=\"node21\" class=\"node\">\n<title>19</title>\n<path fill=\"#fbede3\" stroke=\"#000000\" d=\"M835.5,-306C835.5,-306 743.5,-306 743.5,-306 737.5,-306 731.5,-300 731.5,-294 731.5,-294 731.5,-235 731.5,-235 731.5,-229 737.5,-223 743.5,-223 743.5,-223 835.5,-223 835.5,-223 841.5,-223 847.5,-229 847.5,-235 847.5,-235 847.5,-294 847.5,-294 847.5,-300 841.5,-306 835.5,-306\"/>\n<text text-anchor=\"middle\" x=\"789.5\" y=\"-290.8\" font-family=\"Helvetica,sans-Serif\" font-size=\"14.00\" fill=\"#000000\">BMI &lt;= 31.15</text>\n<text text-anchor=\"middle\" x=\"789.5\" y=\"-275.8\" font-family=\"Helvetica,sans-Serif\" font-size=\"14.00\" fill=\"#000000\">entropy = 1.0</text>\n<text text-anchor=\"middle\" x=\"789.5\" y=\"-260.8\" font-family=\"Helvetica,sans-Serif\" font-size=\"14.00\" fill=\"#000000\">samples = 80</text>\n<text text-anchor=\"middle\" x=\"789.5\" y=\"-245.8\" font-family=\"Helvetica,sans-Serif\" font-size=\"14.00\" fill=\"#000000\">value = [43, 37]</text>\n<text text-anchor=\"middle\" x=\"789.5\" y=\"-230.8\" font-family=\"Helvetica,sans-Serif\" font-size=\"14.00\" fill=\"#000000\">class = 0</text>\n</g>\n<!-- 8&#45;&gt;19 -->\n<g id=\"edge20\" class=\"edge\">\n<title>8&#45;&gt;19</title>\n<path fill=\"none\" stroke=\"#000000\" d=\"M791.4507,-341.8796C791.2441,-333.6838 791.0249,-324.9891 790.811,-316.5013\"/>\n<polygon fill=\"#000000\" stroke=\"#000000\" points=\"794.3047,-316.2067 790.5537,-306.2981 787.307,-316.3831 794.3047,-316.2067\"/>\n</g>\n<!-- 20 -->\n<g id=\"node26\" class=\"node\">\n<title>20</title>\n<path fill=\"#9ccef2\" stroke=\"#000000\" d=\"M1017.5,-306C1017.5,-306 877.5,-306 877.5,-306 871.5,-306 865.5,-300 865.5,-294 865.5,-294 865.5,-235 865.5,-235 865.5,-229 871.5,-223 877.5,-223 877.5,-223 1017.5,-223 1017.5,-223 1023.5,-223 1029.5,-229 1029.5,-235 1029.5,-235 1029.5,-294 1029.5,-294 1029.5,-300 1023.5,-306 1017.5,-306\"/>\n<text text-anchor=\"middle\" x=\"947.5\" y=\"-290.8\" font-family=\"Helvetica,sans-Serif\" font-size=\"14.00\" fill=\"#000000\">SkinThickness &lt;= 21.0</text>\n<text text-anchor=\"middle\" x=\"947.5\" y=\"-275.8\" font-family=\"Helvetica,sans-Serif\" font-size=\"14.00\" fill=\"#000000\">entropy = 0.92</text>\n<text text-anchor=\"middle\" x=\"947.5\" y=\"-260.8\" font-family=\"Helvetica,sans-Serif\" font-size=\"14.00\" fill=\"#000000\">samples = 54</text>\n<text text-anchor=\"middle\" x=\"947.5\" y=\"-245.8\" font-family=\"Helvetica,sans-Serif\" font-size=\"14.00\" fill=\"#000000\">value = [18, 36]</text>\n<text text-anchor=\"middle\" x=\"947.5\" y=\"-230.8\" font-family=\"Helvetica,sans-Serif\" font-size=\"14.00\" fill=\"#000000\">class = 1</text>\n</g>\n<!-- 8&#45;&gt;20 -->\n<g id=\"edge25\" class=\"edge\">\n<title>8&#45;&gt;20</title>\n<path fill=\"none\" stroke=\"#000000\" d=\"M846.7115,-341.8796C859.1006,-332.368 872.3649,-322.1843 885.0676,-312.432\"/>\n<polygon fill=\"#000000\" stroke=\"#000000\" points=\"887.5186,-314.9628 893.3191,-306.0969 883.2558,-309.4105 887.5186,-314.9628\"/>\n</g>\n<!-- 23 -->\n<g id=\"node22\" class=\"node\">\n<title>23</title>\n<path fill=\"#aad5f4\" stroke=\"#000000\" d=\"M710.5,-179.5C710.5,-179.5 624.5,-179.5 624.5,-179.5 618.5,-179.5 612.5,-173.5 612.5,-167.5 612.5,-167.5 612.5,-123.5 612.5,-123.5 612.5,-117.5 618.5,-111.5 624.5,-111.5 624.5,-111.5 710.5,-111.5 710.5,-111.5 716.5,-111.5 722.5,-117.5 722.5,-123.5 722.5,-123.5 722.5,-167.5 722.5,-167.5 722.5,-173.5 716.5,-179.5 710.5,-179.5\"/>\n<text text-anchor=\"middle\" x=\"667.5\" y=\"-164.3\" font-family=\"Helvetica,sans-Serif\" font-size=\"14.00\" fill=\"#000000\">entropy = 0.95</text>\n<text text-anchor=\"middle\" x=\"667.5\" y=\"-149.3\" font-family=\"Helvetica,sans-Serif\" font-size=\"14.00\" fill=\"#000000\">samples = 22</text>\n<text text-anchor=\"middle\" x=\"667.5\" y=\"-134.3\" font-family=\"Helvetica,sans-Serif\" font-size=\"14.00\" fill=\"#000000\">value = [8, 14]</text>\n<text text-anchor=\"middle\" x=\"667.5\" y=\"-119.3\" font-family=\"Helvetica,sans-Serif\" font-size=\"14.00\" fill=\"#000000\">class = 1</text>\n</g>\n<!-- 19&#45;&gt;23 -->\n<g id=\"edge21\" class=\"edge\">\n<title>19&#45;&gt;23</title>\n<path fill=\"none\" stroke=\"#000000\" d=\"M746.8303,-222.8796C734.8806,-211.2237 721.8963,-198.5587 709.9589,-186.9148\"/>\n<polygon fill=\"#000000\" stroke=\"#000000\" points=\"712.2825,-184.292 702.68,-179.8149 707.3947,-189.303 712.2825,-184.292\"/>\n</g>\n<!-- 24 -->\n<g id=\"node23\" class=\"node\">\n<title>24</title>\n<path fill=\"#f6d4bb\" stroke=\"#000000\" d=\"M844.5,-187C844.5,-187 752.5,-187 752.5,-187 746.5,-187 740.5,-181 740.5,-175 740.5,-175 740.5,-116 740.5,-116 740.5,-110 746.5,-104 752.5,-104 752.5,-104 844.5,-104 844.5,-104 850.5,-104 856.5,-110 856.5,-116 856.5,-116 856.5,-175 856.5,-175 856.5,-181 850.5,-187 844.5,-187\"/>\n<text text-anchor=\"middle\" x=\"798.5\" y=\"-171.8\" font-family=\"Helvetica,sans-Serif\" font-size=\"14.00\" fill=\"#000000\">Age &lt;= 35.5</text>\n<text text-anchor=\"middle\" x=\"798.5\" y=\"-156.8\" font-family=\"Helvetica,sans-Serif\" font-size=\"14.00\" fill=\"#000000\">entropy = 0.97</text>\n<text text-anchor=\"middle\" x=\"798.5\" y=\"-141.8\" font-family=\"Helvetica,sans-Serif\" font-size=\"14.00\" fill=\"#000000\">samples = 58</text>\n<text text-anchor=\"middle\" x=\"798.5\" y=\"-126.8\" font-family=\"Helvetica,sans-Serif\" font-size=\"14.00\" fill=\"#000000\">value = [35, 23]</text>\n<text text-anchor=\"middle\" x=\"798.5\" y=\"-111.8\" font-family=\"Helvetica,sans-Serif\" font-size=\"14.00\" fill=\"#000000\">class = 0</text>\n</g>\n<!-- 19&#45;&gt;24 -->\n<g id=\"edge22\" class=\"edge\">\n<title>19&#45;&gt;24</title>\n<path fill=\"none\" stroke=\"#000000\" d=\"M792.6478,-222.8796C793.2676,-214.6838 793.9252,-205.9891 794.5671,-197.5013\"/>\n<polygon fill=\"#000000\" stroke=\"#000000\" points=\"798.0746,-197.5336 795.3388,-187.2981 791.0945,-197.0056 798.0746,-197.5336\"/>\n</g>\n<!-- 25 -->\n<g id=\"node24\" class=\"node\">\n<title>25</title>\n<path fill=\"#eda877\" stroke=\"#000000\" d=\"M776.5,-68C776.5,-68 690.5,-68 690.5,-68 684.5,-68 678.5,-62 678.5,-56 678.5,-56 678.5,-12 678.5,-12 678.5,-6 684.5,0 690.5,0 690.5,0 776.5,0 776.5,0 782.5,0 788.5,-6 788.5,-12 788.5,-12 788.5,-56 788.5,-56 788.5,-62 782.5,-68 776.5,-68\"/>\n<text text-anchor=\"middle\" x=\"733.5\" y=\"-52.8\" font-family=\"Helvetica,sans-Serif\" font-size=\"14.00\" fill=\"#000000\">entropy = 0.79</text>\n<text text-anchor=\"middle\" x=\"733.5\" y=\"-37.8\" font-family=\"Helvetica,sans-Serif\" font-size=\"14.00\" fill=\"#000000\">samples = 21</text>\n<text text-anchor=\"middle\" x=\"733.5\" y=\"-22.8\" font-family=\"Helvetica,sans-Serif\" font-size=\"14.00\" fill=\"#000000\">value = [16, 5]</text>\n<text text-anchor=\"middle\" x=\"733.5\" y=\"-7.8\" font-family=\"Helvetica,sans-Serif\" font-size=\"14.00\" fill=\"#000000\">class = 0</text>\n</g>\n<!-- 24&#45;&gt;25 -->\n<g id=\"edge23\" class=\"edge\">\n<title>24&#45;&gt;25</title>\n<path fill=\"none\" stroke=\"#000000\" d=\"M774.2964,-103.9815C769.1529,-95.1585 763.7123,-85.8258 758.5384,-76.9506\"/>\n<polygon fill=\"#000000\" stroke=\"#000000\" points=\"761.5344,-75.1402 753.4743,-68.2637 755.487,-78.6656 761.5344,-75.1402\"/>\n</g>\n<!-- 26 -->\n<g id=\"node25\" class=\"node\">\n<title>26</title>\n<path fill=\"#fef8f5\" stroke=\"#000000\" d=\"M910.5,-68C910.5,-68 818.5,-68 818.5,-68 812.5,-68 806.5,-62 806.5,-56 806.5,-56 806.5,-12 806.5,-12 806.5,-6 812.5,0 818.5,0 818.5,0 910.5,0 910.5,0 916.5,0 922.5,-6 922.5,-12 922.5,-12 922.5,-56 922.5,-56 922.5,-62 916.5,-68 910.5,-68\"/>\n<text text-anchor=\"middle\" x=\"864.5\" y=\"-52.8\" font-family=\"Helvetica,sans-Serif\" font-size=\"14.00\" fill=\"#000000\">entropy = 1.0</text>\n<text text-anchor=\"middle\" x=\"864.5\" y=\"-37.8\" font-family=\"Helvetica,sans-Serif\" font-size=\"14.00\" fill=\"#000000\">samples = 37</text>\n<text text-anchor=\"middle\" x=\"864.5\" y=\"-22.8\" font-family=\"Helvetica,sans-Serif\" font-size=\"14.00\" fill=\"#000000\">value = [19, 18]</text>\n<text text-anchor=\"middle\" x=\"864.5\" y=\"-7.8\" font-family=\"Helvetica,sans-Serif\" font-size=\"14.00\" fill=\"#000000\">class = 0</text>\n</g>\n<!-- 24&#45;&gt;26 -->\n<g id=\"edge24\" class=\"edge\">\n<title>24&#45;&gt;26</title>\n<path fill=\"none\" stroke=\"#000000\" d=\"M823.076,-103.9815C828.2986,-95.1585 833.8229,-85.8258 839.0763,-76.9506\"/>\n<polygon fill=\"#000000\" stroke=\"#000000\" points=\"842.1364,-78.652 844.2184,-68.2637 836.1126,-75.0863 842.1364,-78.652\"/>\n</g>\n<!-- 21 -->\n<g id=\"node27\" class=\"node\">\n<title>21</title>\n<path fill=\"#fbeade\" stroke=\"#000000\" d=\"M990.5,-179.5C990.5,-179.5 898.5,-179.5 898.5,-179.5 892.5,-179.5 886.5,-173.5 886.5,-167.5 886.5,-167.5 886.5,-123.5 886.5,-123.5 886.5,-117.5 892.5,-111.5 898.5,-111.5 898.5,-111.5 990.5,-111.5 990.5,-111.5 996.5,-111.5 1002.5,-117.5 1002.5,-123.5 1002.5,-123.5 1002.5,-167.5 1002.5,-167.5 1002.5,-173.5 996.5,-179.5 990.5,-179.5\"/>\n<text text-anchor=\"middle\" x=\"944.5\" y=\"-164.3\" font-family=\"Helvetica,sans-Serif\" font-size=\"14.00\" fill=\"#000000\">entropy = 0.99</text>\n<text text-anchor=\"middle\" x=\"944.5\" y=\"-149.3\" font-family=\"Helvetica,sans-Serif\" font-size=\"14.00\" fill=\"#000000\">samples = 22</text>\n<text text-anchor=\"middle\" x=\"944.5\" y=\"-134.3\" font-family=\"Helvetica,sans-Serif\" font-size=\"14.00\" fill=\"#000000\">value = [12, 10]</text>\n<text text-anchor=\"middle\" x=\"944.5\" y=\"-119.3\" font-family=\"Helvetica,sans-Serif\" font-size=\"14.00\" fill=\"#000000\">class = 0</text>\n</g>\n<!-- 20&#45;&gt;21 -->\n<g id=\"edge26\" class=\"edge\">\n<title>20&#45;&gt;21</title>\n<path fill=\"none\" stroke=\"#000000\" d=\"M946.4507,-222.8796C946.1818,-212.2134 945.8916,-200.7021 945.6194,-189.9015\"/>\n<polygon fill=\"#000000\" stroke=\"#000000\" points=\"949.1161,-189.7235 945.3651,-179.8149 942.1183,-189.9 949.1161,-189.7235\"/>\n</g>\n<!-- 22 -->\n<g id=\"node28\" class=\"node\">\n<title>22</title>\n<path fill=\"#67b4eb\" stroke=\"#000000\" d=\"M1116,-179.5C1116,-179.5 1033,-179.5 1033,-179.5 1027,-179.5 1021,-173.5 1021,-167.5 1021,-167.5 1021,-123.5 1021,-123.5 1021,-117.5 1027,-111.5 1033,-111.5 1033,-111.5 1116,-111.5 1116,-111.5 1122,-111.5 1128,-117.5 1128,-123.5 1128,-123.5 1128,-167.5 1128,-167.5 1128,-173.5 1122,-179.5 1116,-179.5\"/>\n<text text-anchor=\"middle\" x=\"1074.5\" y=\"-164.3\" font-family=\"Helvetica,sans-Serif\" font-size=\"14.00\" fill=\"#000000\">entropy = 0.7</text>\n<text text-anchor=\"middle\" x=\"1074.5\" y=\"-149.3\" font-family=\"Helvetica,sans-Serif\" font-size=\"14.00\" fill=\"#000000\">samples = 32</text>\n<text text-anchor=\"middle\" x=\"1074.5\" y=\"-134.3\" font-family=\"Helvetica,sans-Serif\" font-size=\"14.00\" fill=\"#000000\">value = [6, 26]</text>\n<text text-anchor=\"middle\" x=\"1074.5\" y=\"-119.3\" font-family=\"Helvetica,sans-Serif\" font-size=\"14.00\" fill=\"#000000\">class = 1</text>\n</g>\n<!-- 20&#45;&gt;22 -->\n<g id=\"edge27\" class=\"edge\">\n<title>20&#45;&gt;22</title>\n<path fill=\"none\" stroke=\"#000000\" d=\"M991.9184,-222.8796C1004.3579,-211.2237 1017.8743,-198.5587 1030.301,-186.9148\"/>\n<polygon fill=\"#000000\" stroke=\"#000000\" points=\"1032.9741,-189.2065 1037.8782,-179.8149 1028.1879,-184.0985 1032.9741,-189.2065\"/>\n</g>\n<!-- 9 -->\n<g id=\"node30\" class=\"node\">\n<title>9</title>\n<path fill=\"#b8dcf6\" stroke=\"#000000\" d=\"M653.5,-655.5C653.5,-655.5 567.5,-655.5 567.5,-655.5 561.5,-655.5 555.5,-649.5 555.5,-643.5 555.5,-643.5 555.5,-599.5 555.5,-599.5 555.5,-593.5 561.5,-587.5 567.5,-587.5 567.5,-587.5 653.5,-587.5 653.5,-587.5 659.5,-587.5 665.5,-593.5 665.5,-599.5 665.5,-599.5 665.5,-643.5 665.5,-643.5 665.5,-649.5 659.5,-655.5 653.5,-655.5\"/>\n<text text-anchor=\"middle\" x=\"610.5\" y=\"-640.3\" font-family=\"Helvetica,sans-Serif\" font-size=\"14.00\" fill=\"#000000\">entropy = 0.97</text>\n<text text-anchor=\"middle\" x=\"610.5\" y=\"-625.3\" font-family=\"Helvetica,sans-Serif\" font-size=\"14.00\" fill=\"#000000\">samples = 23</text>\n<text text-anchor=\"middle\" x=\"610.5\" y=\"-610.3\" font-family=\"Helvetica,sans-Serif\" font-size=\"14.00\" fill=\"#000000\">value = [9, 14]</text>\n<text text-anchor=\"middle\" x=\"610.5\" y=\"-595.3\" font-family=\"Helvetica,sans-Serif\" font-size=\"14.00\" fill=\"#000000\">class = 1</text>\n</g>\n<!-- 2&#45;&gt;9 -->\n<g id=\"edge29\" class=\"edge\">\n<title>2&#45;&gt;9</title>\n<path fill=\"none\" stroke=\"#000000\" d=\"M615.0517,-698.8796C614.4243,-688.2134 613.7472,-676.7021 613.1119,-665.9015\"/>\n<polygon fill=\"#000000\" stroke=\"#000000\" points=\"616.5998,-665.5921 612.5185,-655.8149 609.6119,-666.0032 616.5998,-665.5921\"/>\n</g>\n<!-- 10 -->\n<g id=\"node31\" class=\"node\">\n<title>10</title>\n<path fill=\"#49a5e7\" stroke=\"#000000\" d=\"M791,-663C791,-663 696,-663 696,-663 690,-663 684,-657 684,-651 684,-651 684,-592 684,-592 684,-586 690,-580 696,-580 696,-580 791,-580 791,-580 797,-580 803,-586 803,-592 803,-592 803,-651 803,-651 803,-657 797,-663 791,-663\"/>\n<text text-anchor=\"middle\" x=\"743.5\" y=\"-647.8\" font-family=\"Helvetica,sans-Serif\" font-size=\"14.00\" fill=\"#000000\">Insulin &lt;= 177.5</text>\n<text text-anchor=\"middle\" x=\"743.5\" y=\"-632.8\" font-family=\"Helvetica,sans-Serif\" font-size=\"14.00\" fill=\"#000000\">entropy = 0.39</text>\n<text text-anchor=\"middle\" x=\"743.5\" y=\"-617.8\" font-family=\"Helvetica,sans-Serif\" font-size=\"14.00\" fill=\"#000000\">samples = 53</text>\n<text text-anchor=\"middle\" x=\"743.5\" y=\"-602.8\" font-family=\"Helvetica,sans-Serif\" font-size=\"14.00\" fill=\"#000000\">value = [4, 49]</text>\n<text text-anchor=\"middle\" x=\"743.5\" y=\"-587.8\" font-family=\"Helvetica,sans-Serif\" font-size=\"14.00\" fill=\"#000000\">class = 1</text>\n</g>\n<!-- 2&#45;&gt;10 -->\n<g id=\"edge30\" class=\"edge\">\n<title>2&#45;&gt;10</title>\n<path fill=\"none\" stroke=\"#000000\" d=\"M661.5687,-698.8796C671.2955,-689.6931 681.6861,-679.8798 691.6879,-670.4336\"/>\n<polygon fill=\"#000000\" stroke=\"#000000\" points=\"694.3763,-672.7089 699.2432,-663.2981 689.5699,-667.6198 694.3763,-672.7089\"/>\n</g>\n<!-- 13 -->\n<g id=\"node32\" class=\"node\">\n<title>13</title>\n<path fill=\"#399de5\" stroke=\"#000000\" d=\"M781,-536.5C781,-536.5 698,-536.5 698,-536.5 692,-536.5 686,-530.5 686,-524.5 686,-524.5 686,-480.5 686,-480.5 686,-474.5 692,-468.5 698,-468.5 698,-468.5 781,-468.5 781,-468.5 787,-468.5 793,-474.5 793,-480.5 793,-480.5 793,-524.5 793,-524.5 793,-530.5 787,-536.5 781,-536.5\"/>\n<text text-anchor=\"middle\" x=\"739.5\" y=\"-521.3\" font-family=\"Helvetica,sans-Serif\" font-size=\"14.00\" fill=\"#000000\">entropy = 0.0</text>\n<text text-anchor=\"middle\" x=\"739.5\" y=\"-506.3\" font-family=\"Helvetica,sans-Serif\" font-size=\"14.00\" fill=\"#000000\">samples = 33</text>\n<text text-anchor=\"middle\" x=\"739.5\" y=\"-491.3\" font-family=\"Helvetica,sans-Serif\" font-size=\"14.00\" fill=\"#000000\">value = [0, 33]</text>\n<text text-anchor=\"middle\" x=\"739.5\" y=\"-476.3\" font-family=\"Helvetica,sans-Serif\" font-size=\"14.00\" fill=\"#000000\">class = 1</text>\n</g>\n<!-- 10&#45;&gt;13 -->\n<g id=\"edge31\" class=\"edge\">\n<title>10&#45;&gt;13</title>\n<path fill=\"none\" stroke=\"#000000\" d=\"M742.101,-579.8796C741.7425,-569.2134 741.3555,-557.7021 740.9925,-546.9015\"/>\n<polygon fill=\"#000000\" stroke=\"#000000\" points=\"744.4875,-546.6917 740.6534,-536.8149 737.4915,-546.9269 744.4875,-546.6917\"/>\n</g>\n<!-- 14 -->\n<g id=\"node33\" class=\"node\">\n<title>14</title>\n<path fill=\"#6ab6ec\" stroke=\"#000000\" d=\"M909.5,-536.5C909.5,-536.5 823.5,-536.5 823.5,-536.5 817.5,-536.5 811.5,-530.5 811.5,-524.5 811.5,-524.5 811.5,-480.5 811.5,-480.5 811.5,-474.5 817.5,-468.5 823.5,-468.5 823.5,-468.5 909.5,-468.5 909.5,-468.5 915.5,-468.5 921.5,-474.5 921.5,-480.5 921.5,-480.5 921.5,-524.5 921.5,-524.5 921.5,-530.5 915.5,-536.5 909.5,-536.5\"/>\n<text text-anchor=\"middle\" x=\"866.5\" y=\"-521.3\" font-family=\"Helvetica,sans-Serif\" font-size=\"14.00\" fill=\"#000000\">entropy = 0.72</text>\n<text text-anchor=\"middle\" x=\"866.5\" y=\"-506.3\" font-family=\"Helvetica,sans-Serif\" font-size=\"14.00\" fill=\"#000000\">samples = 20</text>\n<text text-anchor=\"middle\" x=\"866.5\" y=\"-491.3\" font-family=\"Helvetica,sans-Serif\" font-size=\"14.00\" fill=\"#000000\">value = [4, 16]</text>\n<text text-anchor=\"middle\" x=\"866.5\" y=\"-476.3\" font-family=\"Helvetica,sans-Serif\" font-size=\"14.00\" fill=\"#000000\">class = 1</text>\n</g>\n<!-- 10&#45;&gt;14 -->\n<g id=\"edge32\" class=\"edge\">\n<title>10&#45;&gt;14</title>\n<path fill=\"none\" stroke=\"#000000\" d=\"M786.5194,-579.8796C798.5671,-568.2237 811.6578,-555.5587 823.6931,-543.9148\"/>\n<polygon fill=\"#000000\" stroke=\"#000000\" points=\"826.2783,-546.2837 831.0316,-536.8149 821.411,-541.2528 826.2783,-546.2837\"/>\n</g>\n</g>\n</svg>\n"
          },
          "metadata": {
            "tags": []
          },
          "execution_count": 17
        }
      ]
    },
    {
      "cell_type": "markdown",
      "metadata": {
        "id": "3avm9bVdkdoz"
      },
      "source": [
        "Выводим глубину дерева:"
      ]
    },
    {
      "cell_type": "code",
      "metadata": {
        "colab": {
          "base_uri": "https://localhost:8080/"
        },
        "id": "3QZUxECOkdoz",
        "outputId": "815f913b-5dc7-4f74-d626-da4e3f0aba5e"
      },
      "source": [
        "clf.tree_.max_depth"
      ],
      "execution_count": 18,
      "outputs": [
        {
          "output_type": "execute_result",
          "data": {
            "text/plain": [
              "7"
            ]
          },
          "metadata": {
            "tags": []
          },
          "execution_count": 18
        }
      ]
    },
    {
      "cell_type": "markdown",
      "metadata": {
        "id": "F2YqQlV9kdo0"
      },
      "source": [
        "Выполняем предсказание для объектов из тестовой выборки:"
      ]
    },
    {
      "cell_type": "code",
      "metadata": {
        "id": "yvo79J69kdo0"
      },
      "source": [
        "features = list(test.columns[:8])\n",
        "x = test[features]\n",
        "y_true = test['Outcome']\n",
        "y_pred = clf.predict(x)"
      ],
      "execution_count": 19,
      "outputs": []
    },
    {
      "cell_type": "markdown",
      "metadata": {
        "id": "S4rSK-Sqkdo1"
      },
      "source": [
        "Доля правильных ответов классификатора:"
      ]
    },
    {
      "cell_type": "code",
      "metadata": {
        "colab": {
          "base_uri": "https://localhost:8080/"
        },
        "id": "29yIa3cykdo1",
        "outputId": "6cd1aee8-44dc-43da-c8df-9e2154728121"
      },
      "source": [
        "from sklearn.metrics import accuracy_score\n",
        "accuracy_score(y_true, y_pred)"
      ],
      "execution_count": 20,
      "outputs": [
        {
          "output_type": "execute_result",
          "data": {
            "text/plain": [
              "0.7627118644067796"
            ]
          },
          "metadata": {
            "tags": []
          },
          "execution_count": 20
        }
      ]
    },
    {
      "cell_type": "markdown",
      "metadata": {
        "id": "sIOx585gkdo2"
      },
      "source": [
        "Среднее значение метрик $F_1$ (Macro-F1):"
      ]
    },
    {
      "cell_type": "code",
      "metadata": {
        "colab": {
          "base_uri": "https://localhost:8080/"
        },
        "id": "NzlHkLfckdo3",
        "outputId": "845b95f9-76a2-4459-93fa-3f41a8d6880f"
      },
      "source": [
        "from sklearn.metrics import f1_score\n",
        "f1_score(y_true, y_pred, average='macro')"
      ],
      "execution_count": 22,
      "outputs": [
        {
          "output_type": "execute_result",
          "data": {
            "text/plain": [
              "0.6722222222222223"
            ]
          },
          "metadata": {
            "tags": []
          },
          "execution_count": 22
        }
      ]
    },
    {
      "cell_type": "markdown",
      "metadata": {
        "id": "vB9DYOwTkdo3"
      },
      "source": [
        "Выполним предсказание для конкретного объекта (с индексом 708) исходных данных:"
      ]
    },
    {
      "cell_type": "code",
      "metadata": {
        "colab": {
          "base_uri": "https://localhost:8080/"
        },
        "id": "K_EdepCzkdo4",
        "outputId": "0a99379a-02e6-4139-ecfc-7ca8d0e389dd"
      },
      "source": [
        "df.loc[739, features]"
      ],
      "execution_count": 27,
      "outputs": [
        {
          "output_type": "execute_result",
          "data": {
            "text/plain": [
              "Pregnancies                   1.000\n",
              "Glucose                     102.000\n",
              "BloodPressure                74.000\n",
              "SkinThickness                 0.000\n",
              "Insulin                       0.000\n",
              "BMI                          39.500\n",
              "DiabetesPedigreeFunction      0.293\n",
              "Age                          42.000\n",
              "Name: 739, dtype: float64"
            ]
          },
          "metadata": {
            "tags": []
          },
          "execution_count": 27
        }
      ]
    },
    {
      "cell_type": "code",
      "metadata": {
        "colab": {
          "base_uri": "https://localhost:8080/"
        },
        "id": "mJA6bU2kmva7",
        "outputId": "211323ec-cecd-4ebb-b4aa-ee3b98b6a9d2"
      },
      "source": [
        "patient_list = [705, 706, 721, 729]\n",
        "for patient in patient_list:\n",
        "    print(patient, \"\\t\", clf.predict([df.loc[patient, features].tolist()])[0])"
      ],
      "execution_count": 24,
      "outputs": [
        {
          "output_type": "stream",
          "text": [
            "705 \t 0\n",
            "706 \t 0\n",
            "721 \t 0\n",
            "729 \t 0\n"
          ],
          "name": "stdout"
        }
      ]
    }
  ]
}