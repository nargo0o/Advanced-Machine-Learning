{
  "nbformat": 4,
  "nbformat_minor": 0,
  "metadata": {
    "colab": {
      "name": "Task3_1.ipynb",
      "provenance": [],
      "authorship_tag": "ABX9TyNC7p3Evag8QYn4XQFRR+dA",
      "include_colab_link": true
    },
    "kernelspec": {
      "name": "python3",
      "display_name": "Python 3"
    },
    "language_info": {
      "name": "python"
    }
  },
  "cells": [
    {
      "cell_type": "markdown",
      "metadata": {
        "id": "view-in-github",
        "colab_type": "text"
      },
      "source": [
        "<a href=\"https://colab.research.google.com/github/nargo0o/Advanced-Machine-Learning/blob/main/Task3_1.ipynb\" target=\"_parent\"><img src=\"https://colab.research.google.com/assets/colab-badge.svg\" alt=\"Open In Colab\"/></a>"
      ]
    },
    {
      "cell_type": "code",
      "metadata": {
        "id": "ccE9azZcm4qT"
      },
      "source": [
        "import pandas as pd\n",
        "import matplotlib\n",
        "import numpy as np\n",
        "import matplotlib.pyplot as plt\n",
        "%matplotlib inline"
      ],
      "execution_count": 2,
      "outputs": []
    },
    {
      "cell_type": "code",
      "metadata": {
        "id": "oBzGuupvoBOk"
      },
      "source": [
        "data = pd.read_csv('3.1 - Лист1.csv', sep=',')"
      ],
      "execution_count": 6,
      "outputs": []
    },
    {
      "cell_type": "code",
      "metadata": {
        "colab": {
          "base_uri": "https://localhost:8080/",
          "height": 204
        },
        "id": "cujFH7VAoFdy",
        "outputId": "068a03a6-b1f2-455b-842b-a4cb2bebffd5"
      },
      "source": [
        "data.head()"
      ],
      "execution_count": 7,
      "outputs": [
        {
          "output_type": "execute_result",
          "data": {
            "text/html": [
              "<div>\n",
              "<style scoped>\n",
              "    .dataframe tbody tr th:only-of-type {\n",
              "        vertical-align: middle;\n",
              "    }\n",
              "\n",
              "    .dataframe tbody tr th {\n",
              "        vertical-align: top;\n",
              "    }\n",
              "\n",
              "    .dataframe thead th {\n",
              "        text-align: right;\n",
              "    }\n",
              "</style>\n",
              "<table border=\"1\" class=\"dataframe\">\n",
              "  <thead>\n",
              "    <tr style=\"text-align: right;\">\n",
              "      <th></th>\n",
              "      <th>Food</th>\n",
              "      <th>Price</th>\n",
              "      <th>Taste</th>\n",
              "      <th>Demand</th>\n",
              "    </tr>\n",
              "  </thead>\n",
              "  <tbody>\n",
              "    <tr>\n",
              "      <th>0</th>\n",
              "      <td>Pizza</td>\n",
              "      <td>2</td>\n",
              "      <td>4</td>\n",
              "      <td>No</td>\n",
              "    </tr>\n",
              "    <tr>\n",
              "      <th>1</th>\n",
              "      <td>Pizza</td>\n",
              "      <td>5</td>\n",
              "      <td>5</td>\n",
              "      <td>No</td>\n",
              "    </tr>\n",
              "    <tr>\n",
              "      <th>2</th>\n",
              "      <td>Pizza</td>\n",
              "      <td>4</td>\n",
              "      <td>5</td>\n",
              "      <td>Yes</td>\n",
              "    </tr>\n",
              "    <tr>\n",
              "      <th>3</th>\n",
              "      <td>Pizza</td>\n",
              "      <td>1</td>\n",
              "      <td>5</td>\n",
              "      <td>Yes</td>\n",
              "    </tr>\n",
              "    <tr>\n",
              "      <th>4</th>\n",
              "      <td>Pizza</td>\n",
              "      <td>3</td>\n",
              "      <td>5</td>\n",
              "      <td>No</td>\n",
              "    </tr>\n",
              "  </tbody>\n",
              "</table>\n",
              "</div>"
            ],
            "text/plain": [
              "    Food  Price  Taste Demand\n",
              "0  Pizza      2      4     No\n",
              "1  Pizza      5      5     No\n",
              "2  Pizza      4      5    Yes\n",
              "3  Pizza      1      5    Yes\n",
              "4  Pizza      3      5     No"
            ]
          },
          "metadata": {
            "tags": []
          },
          "execution_count": 7
        }
      ]
    },
    {
      "cell_type": "code",
      "metadata": {
        "id": "Nr7G8J1lo3qQ"
      },
      "source": [
        "X = data.drop('Demand', axis = 1)\n",
        "y = np.array([int(i == 'Yes') for i in data.Demand])"
      ],
      "execution_count": 8,
      "outputs": []
    },
    {
      "cell_type": "code",
      "metadata": {
        "colab": {
          "base_uri": "https://localhost:8080/",
          "height": 204
        },
        "id": "x-NUhDW6o-l8",
        "outputId": "310f5574-6fe7-4a08-c6cb-32d62da699e0"
      },
      "source": [
        "X.head()"
      ],
      "execution_count": 10,
      "outputs": [
        {
          "output_type": "execute_result",
          "data": {
            "text/html": [
              "<div>\n",
              "<style scoped>\n",
              "    .dataframe tbody tr th:only-of-type {\n",
              "        vertical-align: middle;\n",
              "    }\n",
              "\n",
              "    .dataframe tbody tr th {\n",
              "        vertical-align: top;\n",
              "    }\n",
              "\n",
              "    .dataframe thead th {\n",
              "        text-align: right;\n",
              "    }\n",
              "</style>\n",
              "<table border=\"1\" class=\"dataframe\">\n",
              "  <thead>\n",
              "    <tr style=\"text-align: right;\">\n",
              "      <th></th>\n",
              "      <th>Food</th>\n",
              "      <th>Price</th>\n",
              "      <th>Taste</th>\n",
              "    </tr>\n",
              "  </thead>\n",
              "  <tbody>\n",
              "    <tr>\n",
              "      <th>0</th>\n",
              "      <td>Pizza</td>\n",
              "      <td>2</td>\n",
              "      <td>4</td>\n",
              "    </tr>\n",
              "    <tr>\n",
              "      <th>1</th>\n",
              "      <td>Pizza</td>\n",
              "      <td>5</td>\n",
              "      <td>5</td>\n",
              "    </tr>\n",
              "    <tr>\n",
              "      <th>2</th>\n",
              "      <td>Pizza</td>\n",
              "      <td>4</td>\n",
              "      <td>5</td>\n",
              "    </tr>\n",
              "    <tr>\n",
              "      <th>3</th>\n",
              "      <td>Pizza</td>\n",
              "      <td>1</td>\n",
              "      <td>5</td>\n",
              "    </tr>\n",
              "    <tr>\n",
              "      <th>4</th>\n",
              "      <td>Pizza</td>\n",
              "      <td>3</td>\n",
              "      <td>5</td>\n",
              "    </tr>\n",
              "  </tbody>\n",
              "</table>\n",
              "</div>"
            ],
            "text/plain": [
              "    Food  Price  Taste\n",
              "0  Pizza      2      4\n",
              "1  Pizza      5      5\n",
              "2  Pizza      4      5\n",
              "3  Pizza      1      5\n",
              "4  Pizza      3      5"
            ]
          },
          "metadata": {
            "tags": []
          },
          "execution_count": 10
        }
      ]
    },
    {
      "cell_type": "code",
      "metadata": {
        "colab": {
          "base_uri": "https://localhost:8080/"
        },
        "id": "WfOgrEQ8pDCA",
        "outputId": "684b5dfd-26d6-48e2-dab0-b1f4c6ed38da"
      },
      "source": [
        "y"
      ],
      "execution_count": 11,
      "outputs": [
        {
          "output_type": "execute_result",
          "data": {
            "text/plain": [
              "array([0, 0, 1, 1, 0, 0, 0, 0, 1, 0, 0, 1, 0, 1, 1, 1, 0, 0, 0, 1])"
            ]
          },
          "metadata": {
            "tags": []
          },
          "execution_count": 11
        }
      ]
    },
    {
      "cell_type": "code",
      "metadata": {
        "colab": {
          "base_uri": "https://localhost:8080/"
        },
        "id": "6zGGjAQ2pFrB",
        "outputId": "1a0bbb8e-66d7-4684-b885-1588b7e44f67"
      },
      "source": [
        "# Рассчитайте начальную энтропию отклика\n",
        "def get_H(p):\n",
        "    p = np.array(p)\n",
        "    return sum(-p*np.log2(p))\n",
        "\n",
        "p = np.array([sum(y)/len(y), 1-sum(y)/len(y)])\n",
        "H = get_H(p)\n",
        "np.round(H, 3)"
      ],
      "execution_count": 12,
      "outputs": [
        {
          "output_type": "execute_result",
          "data": {
            "text/plain": [
              "0.971"
            ]
          },
          "metadata": {
            "tags": []
          },
          "execution_count": 12
        }
      ]
    },
    {
      "cell_type": "code",
      "metadata": {
        "colab": {
          "base_uri": "https://localhost:8080/"
        },
        "id": "U7HGvw_lpKeq",
        "outputId": "f7a060ad-602c-4df0-d19f-7b95d6a83d41"
      },
      "source": [
        "# Probabilities\n",
        "# (Demand|Pizza), (Demand|SUSHI), (Demand|Burgers)\n",
        "food_index = {'Pizza':0, \n",
        "              'Sushi':1, \n",
        "              'Burgers':2}\n",
        "\n",
        "\n",
        "probs_food = np.array([[0, 0],\n",
        "                       [0, 0],\n",
        "                       [0, 0]])\n",
        "food_type_prob = np.array([0, 0, 0])\n",
        "                       \n",
        "for f, d in zip(X.Food, y):\n",
        "    food_type_prob[food_index[f]] += 1\n",
        "    probs_food[food_index[f]][d] += 1\n",
        "\n",
        "\n",
        "for food in food_index:\n",
        "    print(f'(Demand|{food}):')\n",
        "    print(f'\\tYes: {probs_food[food_index[food]][1]}/{sum(probs_food[food_index[food]])}')\n",
        "    print(f'\\tNo:  {probs_food[food_index[food]][0]}/{sum(probs_food[food_index[food]])}')\n",
        "\n",
        "# for the future\n",
        "probs_food = probs_food.astype(float)\n",
        "for i in range(len(probs_food)):\n",
        "    probs_food[i] /= sum(probs_food[i])\n",
        "    \n",
        "food_type_prob = food_type_prob.astype(float)\n",
        "food_type_prob /= sum(food_type_prob)"
      ],
      "execution_count": 13,
      "outputs": [
        {
          "output_type": "stream",
          "text": [
            "(Demand|Pizza):\n",
            "\tYes: 2/5\n",
            "\tNo:  3/5\n",
            "(Demand|Sushi):\n",
            "\tYes: 2/8\n",
            "\tNo:  6/8\n",
            "(Demand|Burgers):\n",
            "\tYes: 4/7\n",
            "\tNo:  3/7\n"
          ],
          "name": "stdout"
        }
      ]
    },
    {
      "cell_type": "code",
      "metadata": {
        "colab": {
          "base_uri": "https://localhost:8080/"
        },
        "id": "8AGxZ8xQpcAJ",
        "outputId": "d8a1796c-2587-40a0-e6a0-9b56b9f0dd83"
      },
      "source": [
        "# Вычислите условные энтропии эксперимента  при условии, \n",
        "# что выбрана пицца, суши или бургер.\n",
        "food_h = []\n",
        "for pp, food in zip(probs_food, food_index):\n",
        "    food_h.append(get_H(pp))\n",
        "    print(f'H({food}): {np.round(food_h[-1], 3)}')"
      ],
      "execution_count": 14,
      "outputs": [
        {
          "output_type": "stream",
          "text": [
            "H(Pizza): 0.971\n",
            "H(Sushi): 0.811\n",
            "H(Burgers): 0.985\n"
          ],
          "name": "stdout"
        }
      ]
    },
    {
      "cell_type": "code",
      "metadata": {
        "colab": {
          "base_uri": "https://localhost:8080/"
        },
        "id": "cMOfbdaXpk_b",
        "outputId": "a4171969-f5ab-4809-8068-f29a56ebf5ce"
      },
      "source": [
        "print(food_type_prob)"
      ],
      "execution_count": 15,
      "outputs": [
        {
          "output_type": "stream",
          "text": [
            "[0.25 0.4  0.35]\n"
          ],
          "name": "stdout"
        }
      ]
    },
    {
      "cell_type": "code",
      "metadata": {
        "colab": {
          "base_uri": "https://localhost:8080/"
        },
        "id": "pdhCWzarplVu",
        "outputId": "39574fc5-e22f-452d-f147-88cc6a3a8c8c"
      },
      "source": [
        "# IG(Demand|Food)\n",
        "H - sum(food_h * food_type_prob)"
      ],
      "execution_count": 16,
      "outputs": [
        {
          "output_type": "execute_result",
          "data": {
            "text/plain": [
              "0.05887184844536031"
            ]
          },
          "metadata": {
            "tags": []
          },
          "execution_count": 16
        }
      ]
    },
    {
      "cell_type": "code",
      "metadata": {
        "id": "tcLlbIt_p2Vo"
      },
      "source": [
        "def count_entropy_IG(x, y):\n",
        "    \n",
        "    # Class probability\n",
        "    def get_H(p):\n",
        "        p = np.array(p)\n",
        "        return sum(-p*np.log2(p))\n",
        "    p_aprior = np.array([sum(y)/len(y), 1-sum(y)/len(y)])\n",
        "    H = get_H(p_aprior)\n",
        "    \n",
        "    # Probabilities\n",
        "    index_counter = 0\n",
        "    indexes = {}\n",
        "    # P(Demand|class_0), P(Demand|class_1), ...\n",
        "    yes_no_probs = []\n",
        "    # P(class_0), P(class_1), ...\n",
        "    class_prob = []\n",
        "\n",
        "    for cur_class, d in zip(x, y):\n",
        "        if not cur_class in indexes:\n",
        "            indexes.update({cur_class:index_counter})\n",
        "            class_prob.append(0)\n",
        "            yes_no_probs.append([0, 0])\n",
        "            index_counter += 1\n",
        "        class_prob[indexes[cur_class]] += 1\n",
        "        yes_no_probs[indexes[cur_class]][d] += 1\n",
        "    \n",
        "    yes_no_probs = np.array(yes_no_probs)\n",
        "    class_prob = np.array(class_prob)\n",
        "\n",
        "    for food in indexes:\n",
        "        print(f'(Demand|{food}):')\n",
        "        print(f'\\tYes: {yes_no_probs[indexes[food]][1]}/{sum(yes_no_probs[indexes[food]])}')\n",
        "        print(f'\\tNo:  {yes_no_probs[indexes[food]][0]}/{sum(yes_no_probs[indexes[food]])}')\n",
        "\n",
        "    # for the future\n",
        "    yes_no_probs = yes_no_probs.astype(float)\n",
        "    for i in range(len(yes_no_probs)):\n",
        "        yes_no_probs[i] /= sum(yes_no_probs[i])\n",
        "\n",
        "    class_prob = class_prob.astype(float)\n",
        "    class_prob /= sum(class_prob)\n",
        "    \n",
        "    # H(Demand|class)\n",
        "    class_H = []\n",
        "    for pp, cur_class in zip(yes_no_probs, indexes):\n",
        "        class_H.append(get_H(pp))\n",
        "        print(f'H({cur_class}): {np.round(class_H[-1], 3)}')\n",
        "    print(class_prob, class_H)\n",
        "    # IG(Demand|Class)\n",
        "    print('\\nINFORMATION GAIN')\n",
        "    print(np.round(H - sum(class_H * class_prob), 3))"
      ],
      "execution_count": 17,
      "outputs": []
    },
    {
      "cell_type": "code",
      "metadata": {
        "colab": {
          "base_uri": "https://localhost:8080/"
        },
        "id": "d0ODfVcHp7VB",
        "outputId": "47591b0d-12f9-46cd-cf82-b55eae4b61e5"
      },
      "source": [
        "count_entropy_IG(X.Food, y)\n"
      ],
      "execution_count": 18,
      "outputs": [
        {
          "output_type": "stream",
          "text": [
            "(Demand|Pizza):\n",
            "\tYes: 2/5\n",
            "\tNo:  3/5\n",
            "(Demand|Sushi):\n",
            "\tYes: 2/8\n",
            "\tNo:  6/8\n",
            "(Demand|Burgers):\n",
            "\tYes: 4/7\n",
            "\tNo:  3/7\n",
            "H(Pizza): 0.971\n",
            "H(Sushi): 0.811\n",
            "H(Burgers): 0.985\n",
            "[0.25 0.4  0.35] [0.9709505944546686, 0.8112781244591328, 0.9852281360342515]\n",
            "\n",
            "INFORMATION GAIN\n",
            "0.059\n"
          ],
          "name": "stdout"
        }
      ]
    },
    {
      "cell_type": "code",
      "metadata": {
        "colab": {
          "base_uri": "https://localhost:8080/"
        },
        "id": "2Wa1fGD3p-NW",
        "outputId": "db366987-0a76-4a4d-f44c-17854f35e70e"
      },
      "source": [
        "count_entropy_IG(X.Price, y)\n"
      ],
      "execution_count": 19,
      "outputs": [
        {
          "output_type": "stream",
          "text": [
            "(Demand|2):\n",
            "\tYes: 1/5\n",
            "\tNo:  4/5\n",
            "(Demand|5):\n",
            "\tYes: 2/5\n",
            "\tNo:  3/5\n",
            "(Demand|4):\n",
            "\tYes: 2/3\n",
            "\tNo:  1/3\n",
            "(Demand|1):\n",
            "\tYes: 2/4\n",
            "\tNo:  2/4\n",
            "(Demand|3):\n",
            "\tYes: 1/3\n",
            "\tNo:  2/3\n",
            "H(2): 0.722\n",
            "H(5): 0.971\n",
            "H(4): 0.918\n",
            "H(1): 1.0\n",
            "H(3): 0.918\n",
            "[0.25 0.25 0.15 0.2  0.15] [0.7219280948873623, 0.9709505944546686, 0.9182958340544896, 1.0, 0.9182958340544896]\n",
            "\n",
            "INFORMATION GAIN\n",
            "0.072\n"
          ],
          "name": "stdout"
        }
      ]
    },
    {
      "cell_type": "code",
      "metadata": {
        "colab": {
          "base_uri": "https://localhost:8080/"
        },
        "id": "ZKbeYHxOqNYz",
        "outputId": "3ec56869-dcf9-4032-8ad5-94af25e5aac3"
      },
      "source": [
        "count_entropy_IG(X.Taste, y)"
      ],
      "execution_count": 20,
      "outputs": [
        {
          "output_type": "stream",
          "text": [
            "(Demand|4):\n",
            "\tYes: 2/4\n",
            "\tNo:  2/4\n",
            "(Demand|5):\n",
            "\tYes: 3/7\n",
            "\tNo:  4/7\n",
            "(Demand|3):\n",
            "\tYes: 1/3\n",
            "\tNo:  2/3\n",
            "(Demand|2):\n",
            "\tYes: 1/4\n",
            "\tNo:  3/4\n",
            "(Demand|1):\n",
            "\tYes: 1/2\n",
            "\tNo:  1/2\n",
            "H(4): 1.0\n",
            "H(5): 0.985\n",
            "H(3): 0.918\n",
            "H(2): 0.811\n",
            "H(1): 1.0\n",
            "[0.2  0.35 0.15 0.2  0.1 ] [1.0, 0.9852281360342515, 0.9182958340544896, 0.8112781244591328, 1.0]\n",
            "\n",
            "INFORMATION GAIN\n",
            "0.026\n"
          ],
          "name": "stdout"
        }
      ]
    }
  ]
}